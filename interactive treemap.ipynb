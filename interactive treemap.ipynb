{
 "cells": [
  {
   "attachments": {},
   "cell_type": "markdown",
   "metadata": {},
   "source": []
  },
  {
   "cell_type": "code",
   "execution_count": 22,
   "metadata": {
    "ExecuteTime": {
     "end_time": "2024-01-10T23:49:33.458326Z",
     "start_time": "2024-01-10T23:49:33.400103Z"
    }
   },
   "outputs": [],
   "source": [
    "\n",
    "from urllib.request import urlopen\n",
    "from urllib.request import Request\n",
    "from bs4 import BeautifulSoup\n",
    "import yfinance as yf\n",
    "import pandas as pd\n",
    "from datetime import datetime"
   ]
  },
  {
   "cell_type": "code",
   "execution_count": 28,
   "metadata": {
    "ExecuteTime": {
     "end_time": "2024-01-10T23:50:46.113357Z",
     "start_time": "2024-01-10T23:50:46.049938Z"
    }
   },
   "outputs": [],
   "source": [
    "\n",
    "tickers_dict = {'AMZN': 5, 'TSLA': 1, 'GOOG': 3, 'META': 3, 'KO': 10, 'PEP': 5, \n",
    "                'BA': 5, 'XOM': 5, 'CVX': 4, 'UNH': 1, 'JNJ': 3, 'JPM': 3, \n",
    "                'BAC': 5, 'C': 5, 'SPG': 10, 'AAPL': 6, 'MSFT': 5, 'WMT': 6, \n",
    "                'LMT': 2, 'PFE': 10, 'MMM': 3, 'DIS': 8, 'AIG': 5, 'BRK-B': 4,\n",
    "                'SLB': 16, 'PLD': 5, 'AMD': 5,  'ISRG': 3, 'INTC': 5} \n",
    "\n",
    "tickers = tickers_dict.keys()\n",
    "n_shares = tickers_dict.values()"
   ]
  },
  {
   "cell_type": "code",
   "execution_count": 29,
   "metadata": {
    "ExecuteTime": {
     "end_time": "2024-01-10T23:51:01.658326Z",
     "start_time": "2024-01-10T23:50:47.232542Z"
    }
   },
   "outputs": [
    {
     "data": {
      "text/plain": "[['AMZN',\n  'Today',\n  '05:50PM',\n  \"Amazon's New Streaming Move Could Change How You Watch TV\"],\n ['AMZN',\n  'Today',\n  '05:42PM',\n  'Amazon, BlackRock announce first round of layoffs in 2024'],\n ['AMZN',\n  'Today',\n  '05:16PM',\n  'Amazon lays off workers from Prime Video, MGM Studios, Twitch'],\n ['AMZN',\n  'Today',\n  '04:37PM',\n  'Amazon to make no concessions to EU on $1.4 bln iRobot deal - Politico'],\n ['AMZN',\n  'Today',\n  '03:25PM',\n  'Walmart is promising a Jetsons-like future at CES. Delivering that will be tricky']]"
     },
     "execution_count": 29,
     "metadata": {},
     "output_type": "execute_result"
    }
   ],
   "source": [
    "\n",
    "\n",
    "#scrape data\n",
    "url_1 = \"https://finviz.com/quote.ashx?t=\"\n",
    "scrape_news_tab = {}\n",
    "\n",
    "for ticker in tickers:\n",
    "    url_2 = url_1 + ticker\n",
    "    ticker_req =  Request(url = url_2, headers = {'User-Agent': 'Mozilla/5.0 (Macintosh; Intel Mac OS X 10_15_7) AppleWebKit/605.1.15 (KHTML, like Gecko) Version/16.1 Safari/605.1.15'})\n",
    "    response = urlopen(ticker_req)\n",
    "    #extract into html\n",
    "    html = BeautifulSoup(response)\n",
    "    #find and load news_table\n",
    "    news_table = html.find(id = 'news-table')\n",
    "    #add table to dictionary\n",
    "    scrape_news_tab[ticker] = news_table\n",
    "\n",
    "parsed_news = []\n",
    "#news iteration\n",
    "for file_name, news_table in scrape_news_tab.items():\n",
    "    #iterate through all tr tags\n",
    "    for x in news_table.findAll('tr'):\n",
    "        text = x.a.get_text() #read text from each a tag under tr tag\n",
    "        date_scrape = x.td.text.split()\n",
    "        if len(date_scrape) == 1:\n",
    "            time = date_scrape[0] #to make sure all news time for a given date is taken\n",
    "        else:\n",
    "            date = date_scrape[0]\n",
    "            time = date_scrape[1]\n",
    "        ticker = file_name.split('_')[0]\n",
    "        parsed_news.append([ticker, date, time, text])\n",
    "\n",
    "\n",
    "parsed_news[:5]"
   ]
  },
  {
   "cell_type": "code",
   "execution_count": 25,
   "metadata": {
    "ExecuteTime": {
     "end_time": "2024-01-10T23:50:03.054296Z",
     "start_time": "2024-01-10T23:50:02.785825Z"
    }
   },
   "outputs": [
    {
     "name": "stderr",
     "output_type": "stream",
     "text": [
      "[nltk_data] Downloading package vader_lexicon to\n",
      "[nltk_data]     /Users/arminbajrica/nltk_data...\n",
      "[nltk_data]   Package vader_lexicon is already up-to-date!\n"
     ]
    }
   ],
   "source": [
    "# NLTK VADER for sentiment analysis\n",
    "import nltk\n",
    "nltk.downloader.download('vader_lexicon')\n",
    "from nltk.sentiment.vader import SentimentIntensityAnalyzer"
   ]
  },
  {
   "cell_type": "code",
   "execution_count": 26,
   "metadata": {
    "collapsed": false,
    "ExecuteTime": {
     "end_time": "2024-01-10T23:50:05.080715Z",
     "start_time": "2024-01-10T23:50:04.812308Z"
    }
   },
   "outputs": [
    {
     "name": "stdout",
     "output_type": "stream",
     "text": [
      "Empty DataFrame\n",
      "Columns: [ticker, date, time, headline]\n",
      "Index: []\n",
      "<class 'pandas.core.frame.DataFrame'>\n",
      "RangeIndex: 0 entries\n",
      "Data columns (total 4 columns):\n",
      " #   Column    Non-Null Count  Dtype \n",
      "---  ------    --------------  ----- \n",
      " 0   ticker    0 non-null      object\n",
      " 1   date      0 non-null      object\n",
      " 2   time      0 non-null      object\n",
      " 3   headline  0 non-null      object\n",
      "dtypes: object(4)\n",
      "memory usage: 124.0+ bytes\n",
      "<class 'pandas.core.frame.DataFrame'>\n",
      "RangeIndex: 0 entries\n",
      "Data columns (total 4 columns):\n",
      " #   Column    Non-Null Count  Dtype \n",
      "---  ------    --------------  ----- \n",
      " 0   ticker    0 non-null      object\n",
      " 1   date      0 non-null      object\n",
      " 2   time      0 non-null      object\n",
      " 3   headline  0 non-null      object\n",
      "dtypes: object(4)\n",
      "memory usage: 124.0+ bytes\n",
      "Empty DataFrame\n",
      "Columns: [ticker, date, time, headline]\n",
      "Index: []\n"
     ]
    },
    {
     "data": {
      "text/plain": "Empty DataFrame\nColumns: [ticker, date, time, headline]\nIndex: []",
      "text/html": "<div>\n<style scoped>\n    .dataframe tbody tr th:only-of-type {\n        vertical-align: middle;\n    }\n\n    .dataframe tbody tr th {\n        vertical-align: top;\n    }\n\n    .dataframe thead th {\n        text-align: right;\n    }\n</style>\n<table border=\"1\" class=\"dataframe\">\n  <thead>\n    <tr style=\"text-align: right;\">\n      <th></th>\n      <th>ticker</th>\n      <th>date</th>\n      <th>time</th>\n      <th>headline</th>\n    </tr>\n  </thead>\n  <tbody>\n  </tbody>\n</table>\n</div>"
     },
     "execution_count": 26,
     "metadata": {},
     "output_type": "execute_result"
    }
   ],
   "source": [
    "# Instantiate the sentiment intensity analyzer\n",
    "vader = SentimentIntensityAnalyzer()\n",
    "columns = ['ticker', 'date', 'time', 'headline']\n",
    "news_df = pd.DataFrame(parsed_news, columns=columns)\n",
    "print(news_df)\n",
    "news_df.info()\n",
    "news_df.info()\n",
    "print(news_df)\n",
    "def convert_to_date(date_str):\n",
    "    if date_str == 'Today':\n",
    "        return datetime.today().date()\n",
    "    else:\n",
    "        try:\n",
    "            return datetime.strptime(date_str, '%Y-%m-%d').date()\n",
    "        except ValueError:\n",
    "            return datetime.strptime(date_str, '%b-%d-%y').date()\n",
    "\n",
    "news_df['date'] = news_df['date'].apply(convert_to_date)\n",
    "scores = news_df['headline'].apply(vader.polarity_scores).tolist()\n",
    "scores_df = pd.DataFrame(scores)\n",
    "news_df = news_df.join(scores_df, rsuffix='_right')\n",
    "        \n",
    "news_df['date'] = pd.to_datetime(news_df.date).dt.date\n",
    "news_df.tail()"
   ]
  },
  {
   "cell_type": "code",
   "execution_count": 27,
   "metadata": {
    "ExecuteTime": {
     "end_time": "2024-01-10T23:50:17.237940Z",
     "start_time": "2024-01-10T23:50:16.532329Z"
    }
   },
   "outputs": [
    {
     "name": "stdout",
     "output_type": "stream",
     "text": [
      "<pandas.core.groupby.generic.DataFrameGroupBy object at 0x1339d2be0>\n"
     ]
    },
    {
     "ename": "KeyError",
     "evalue": "\"['neg', 'neu', 'pos', 'compound'] not in index\"",
     "output_type": "error",
     "traceback": [
      "\u001B[0;31m---------------------------------------------------------------------------\u001B[0m",
      "\u001B[0;31mKeyError\u001B[0m                                  Traceback (most recent call last)",
      "Cell \u001B[0;32mIn[27], line 4\u001B[0m\n\u001B[1;32m      2\u001B[0m \u001B[38;5;28mprint\u001B[39m(news_df\u001B[38;5;241m.\u001B[39mgroupby([\u001B[38;5;124m'\u001B[39m\u001B[38;5;124mticker\u001B[39m\u001B[38;5;124m'\u001B[39m]))\n\u001B[1;32m      3\u001B[0m mean_scores \u001B[38;5;241m=\u001B[39m news_df\u001B[38;5;241m.\u001B[39mgroupby([\u001B[38;5;124m'\u001B[39m\u001B[38;5;124mticker\u001B[39m\u001B[38;5;124m'\u001B[39m])\n\u001B[0;32m----> 4\u001B[0m mean_df \u001B[38;5;241m=\u001B[39m \u001B[43mnews_df\u001B[49m\u001B[38;5;241;43m.\u001B[39;49m\u001B[43mloc\u001B[49m\u001B[43m[\u001B[49m\u001B[43m:\u001B[49m\u001B[43m,\u001B[49m\u001B[43m[\u001B[49m\u001B[38;5;124;43m'\u001B[39;49m\u001B[38;5;124;43mticker\u001B[39;49m\u001B[38;5;124;43m'\u001B[39;49m\u001B[43m,\u001B[49m\u001B[43m \u001B[49m\u001B[38;5;124;43m'\u001B[39;49m\u001B[38;5;124;43mneg\u001B[39;49m\u001B[38;5;124;43m'\u001B[39;49m\u001B[43m,\u001B[49m\u001B[43m \u001B[49m\u001B[38;5;124;43m'\u001B[39;49m\u001B[38;5;124;43mneu\u001B[39;49m\u001B[38;5;124;43m'\u001B[39;49m\u001B[43m,\u001B[49m\u001B[43m \u001B[49m\u001B[38;5;124;43m'\u001B[39;49m\u001B[38;5;124;43mpos\u001B[39;49m\u001B[38;5;124;43m'\u001B[39;49m\u001B[43m,\u001B[49m\u001B[43m \u001B[49m\u001B[38;5;124;43m'\u001B[39;49m\u001B[38;5;124;43mcompound\u001B[39;49m\u001B[38;5;124;43m'\u001B[39;49m\u001B[43m]\u001B[49m\u001B[43m]\u001B[49m\u001B[38;5;241m.\u001B[39mgroupby([\u001B[38;5;124m'\u001B[39m\u001B[38;5;124mticker\u001B[39m\u001B[38;5;124m'\u001B[39m])\u001B[38;5;241m.\u001B[39mmean()\n\u001B[1;32m      5\u001B[0m \u001B[38;5;28mprint\u001B[39m(mean_df)\n",
      "File \u001B[0;32m~/Downloads/Live-Stock-Sentiment_Treemap-main-2_PARSEC/venv/lib/python3.9/site-packages/pandas/core/indexing.py:1147\u001B[0m, in \u001B[0;36m_LocationIndexer.__getitem__\u001B[0;34m(self, key)\u001B[0m\n\u001B[1;32m   1145\u001B[0m     \u001B[38;5;28;01mif\u001B[39;00m \u001B[38;5;28mself\u001B[39m\u001B[38;5;241m.\u001B[39m_is_scalar_access(key):\n\u001B[1;32m   1146\u001B[0m         \u001B[38;5;28;01mreturn\u001B[39;00m \u001B[38;5;28mself\u001B[39m\u001B[38;5;241m.\u001B[39mobj\u001B[38;5;241m.\u001B[39m_get_value(\u001B[38;5;241m*\u001B[39mkey, takeable\u001B[38;5;241m=\u001B[39m\u001B[38;5;28mself\u001B[39m\u001B[38;5;241m.\u001B[39m_takeable)\n\u001B[0;32m-> 1147\u001B[0m     \u001B[38;5;28;01mreturn\u001B[39;00m \u001B[38;5;28;43mself\u001B[39;49m\u001B[38;5;241;43m.\u001B[39;49m\u001B[43m_getitem_tuple\u001B[49m\u001B[43m(\u001B[49m\u001B[43mkey\u001B[49m\u001B[43m)\u001B[49m\n\u001B[1;32m   1148\u001B[0m \u001B[38;5;28;01melse\u001B[39;00m:\n\u001B[1;32m   1149\u001B[0m     \u001B[38;5;66;03m# we by definition only have the 0th axis\u001B[39;00m\n\u001B[1;32m   1150\u001B[0m     axis \u001B[38;5;241m=\u001B[39m \u001B[38;5;28mself\u001B[39m\u001B[38;5;241m.\u001B[39maxis \u001B[38;5;129;01mor\u001B[39;00m \u001B[38;5;241m0\u001B[39m\n",
      "File \u001B[0;32m~/Downloads/Live-Stock-Sentiment_Treemap-main-2_PARSEC/venv/lib/python3.9/site-packages/pandas/core/indexing.py:1339\u001B[0m, in \u001B[0;36m_LocIndexer._getitem_tuple\u001B[0;34m(self, tup)\u001B[0m\n\u001B[1;32m   1336\u001B[0m \u001B[38;5;28;01mif\u001B[39;00m \u001B[38;5;28mself\u001B[39m\u001B[38;5;241m.\u001B[39m_multi_take_opportunity(tup):\n\u001B[1;32m   1337\u001B[0m     \u001B[38;5;28;01mreturn\u001B[39;00m \u001B[38;5;28mself\u001B[39m\u001B[38;5;241m.\u001B[39m_multi_take(tup)\n\u001B[0;32m-> 1339\u001B[0m \u001B[38;5;28;01mreturn\u001B[39;00m \u001B[38;5;28;43mself\u001B[39;49m\u001B[38;5;241;43m.\u001B[39;49m\u001B[43m_getitem_tuple_same_dim\u001B[49m\u001B[43m(\u001B[49m\u001B[43mtup\u001B[49m\u001B[43m)\u001B[49m\n",
      "File \u001B[0;32m~/Downloads/Live-Stock-Sentiment_Treemap-main-2_PARSEC/venv/lib/python3.9/site-packages/pandas/core/indexing.py:994\u001B[0m, in \u001B[0;36m_LocationIndexer._getitem_tuple_same_dim\u001B[0;34m(self, tup)\u001B[0m\n\u001B[1;32m    991\u001B[0m \u001B[38;5;28;01mif\u001B[39;00m com\u001B[38;5;241m.\u001B[39mis_null_slice(key):\n\u001B[1;32m    992\u001B[0m     \u001B[38;5;28;01mcontinue\u001B[39;00m\n\u001B[0;32m--> 994\u001B[0m retval \u001B[38;5;241m=\u001B[39m \u001B[38;5;28;43mgetattr\u001B[39;49m\u001B[43m(\u001B[49m\u001B[43mretval\u001B[49m\u001B[43m,\u001B[49m\u001B[43m \u001B[49m\u001B[38;5;28;43mself\u001B[39;49m\u001B[38;5;241;43m.\u001B[39;49m\u001B[43mname\u001B[49m\u001B[43m)\u001B[49m\u001B[38;5;241;43m.\u001B[39;49m\u001B[43m_getitem_axis\u001B[49m\u001B[43m(\u001B[49m\u001B[43mkey\u001B[49m\u001B[43m,\u001B[49m\u001B[43m \u001B[49m\u001B[43maxis\u001B[49m\u001B[38;5;241;43m=\u001B[39;49m\u001B[43mi\u001B[49m\u001B[43m)\u001B[49m\n\u001B[1;32m    995\u001B[0m \u001B[38;5;66;03m# We should never have retval.ndim < self.ndim, as that should\u001B[39;00m\n\u001B[1;32m    996\u001B[0m \u001B[38;5;66;03m#  be handled by the _getitem_lowerdim call above.\u001B[39;00m\n\u001B[1;32m    997\u001B[0m \u001B[38;5;28;01massert\u001B[39;00m retval\u001B[38;5;241m.\u001B[39mndim \u001B[38;5;241m==\u001B[39m \u001B[38;5;28mself\u001B[39m\u001B[38;5;241m.\u001B[39mndim\n",
      "File \u001B[0;32m~/Downloads/Live-Stock-Sentiment_Treemap-main-2_PARSEC/venv/lib/python3.9/site-packages/pandas/core/indexing.py:1382\u001B[0m, in \u001B[0;36m_LocIndexer._getitem_axis\u001B[0;34m(self, key, axis)\u001B[0m\n\u001B[1;32m   1379\u001B[0m     \u001B[38;5;28;01mif\u001B[39;00m \u001B[38;5;28mhasattr\u001B[39m(key, \u001B[38;5;124m\"\u001B[39m\u001B[38;5;124mndim\u001B[39m\u001B[38;5;124m\"\u001B[39m) \u001B[38;5;129;01mand\u001B[39;00m key\u001B[38;5;241m.\u001B[39mndim \u001B[38;5;241m>\u001B[39m \u001B[38;5;241m1\u001B[39m:\n\u001B[1;32m   1380\u001B[0m         \u001B[38;5;28;01mraise\u001B[39;00m \u001B[38;5;167;01mValueError\u001B[39;00m(\u001B[38;5;124m\"\u001B[39m\u001B[38;5;124mCannot index with multidimensional key\u001B[39m\u001B[38;5;124m\"\u001B[39m)\n\u001B[0;32m-> 1382\u001B[0m     \u001B[38;5;28;01mreturn\u001B[39;00m \u001B[38;5;28;43mself\u001B[39;49m\u001B[38;5;241;43m.\u001B[39;49m\u001B[43m_getitem_iterable\u001B[49m\u001B[43m(\u001B[49m\u001B[43mkey\u001B[49m\u001B[43m,\u001B[49m\u001B[43m \u001B[49m\u001B[43maxis\u001B[49m\u001B[38;5;241;43m=\u001B[39;49m\u001B[43maxis\u001B[49m\u001B[43m)\u001B[49m\n\u001B[1;32m   1384\u001B[0m \u001B[38;5;66;03m# nested tuple slicing\u001B[39;00m\n\u001B[1;32m   1385\u001B[0m \u001B[38;5;28;01mif\u001B[39;00m is_nested_tuple(key, labels):\n",
      "File \u001B[0;32m~/Downloads/Live-Stock-Sentiment_Treemap-main-2_PARSEC/venv/lib/python3.9/site-packages/pandas/core/indexing.py:1322\u001B[0m, in \u001B[0;36m_LocIndexer._getitem_iterable\u001B[0;34m(self, key, axis)\u001B[0m\n\u001B[1;32m   1319\u001B[0m \u001B[38;5;28mself\u001B[39m\u001B[38;5;241m.\u001B[39m_validate_key(key, axis)\n\u001B[1;32m   1321\u001B[0m \u001B[38;5;66;03m# A collection of keys\u001B[39;00m\n\u001B[0;32m-> 1322\u001B[0m keyarr, indexer \u001B[38;5;241m=\u001B[39m \u001B[38;5;28;43mself\u001B[39;49m\u001B[38;5;241;43m.\u001B[39;49m\u001B[43m_get_listlike_indexer\u001B[49m\u001B[43m(\u001B[49m\u001B[43mkey\u001B[49m\u001B[43m,\u001B[49m\u001B[43m \u001B[49m\u001B[43maxis\u001B[49m\u001B[43m)\u001B[49m\n\u001B[1;32m   1323\u001B[0m \u001B[38;5;28;01mreturn\u001B[39;00m \u001B[38;5;28mself\u001B[39m\u001B[38;5;241m.\u001B[39mobj\u001B[38;5;241m.\u001B[39m_reindex_with_indexers(\n\u001B[1;32m   1324\u001B[0m     {axis: [keyarr, indexer]}, copy\u001B[38;5;241m=\u001B[39m\u001B[38;5;28;01mTrue\u001B[39;00m, allow_dups\u001B[38;5;241m=\u001B[39m\u001B[38;5;28;01mTrue\u001B[39;00m\n\u001B[1;32m   1325\u001B[0m )\n",
      "File \u001B[0;32m~/Downloads/Live-Stock-Sentiment_Treemap-main-2_PARSEC/venv/lib/python3.9/site-packages/pandas/core/indexing.py:1520\u001B[0m, in \u001B[0;36m_LocIndexer._get_listlike_indexer\u001B[0;34m(self, key, axis)\u001B[0m\n\u001B[1;32m   1517\u001B[0m ax \u001B[38;5;241m=\u001B[39m \u001B[38;5;28mself\u001B[39m\u001B[38;5;241m.\u001B[39mobj\u001B[38;5;241m.\u001B[39m_get_axis(axis)\n\u001B[1;32m   1518\u001B[0m axis_name \u001B[38;5;241m=\u001B[39m \u001B[38;5;28mself\u001B[39m\u001B[38;5;241m.\u001B[39mobj\u001B[38;5;241m.\u001B[39m_get_axis_name(axis)\n\u001B[0;32m-> 1520\u001B[0m keyarr, indexer \u001B[38;5;241m=\u001B[39m \u001B[43max\u001B[49m\u001B[38;5;241;43m.\u001B[39;49m\u001B[43m_get_indexer_strict\u001B[49m\u001B[43m(\u001B[49m\u001B[43mkey\u001B[49m\u001B[43m,\u001B[49m\u001B[43m \u001B[49m\u001B[43maxis_name\u001B[49m\u001B[43m)\u001B[49m\n\u001B[1;32m   1522\u001B[0m \u001B[38;5;28;01mreturn\u001B[39;00m keyarr, indexer\n",
      "File \u001B[0;32m~/Downloads/Live-Stock-Sentiment_Treemap-main-2_PARSEC/venv/lib/python3.9/site-packages/pandas/core/indexes/base.py:6115\u001B[0m, in \u001B[0;36mIndex._get_indexer_strict\u001B[0;34m(self, key, axis_name)\u001B[0m\n\u001B[1;32m   6112\u001B[0m \u001B[38;5;28;01melse\u001B[39;00m:\n\u001B[1;32m   6113\u001B[0m     keyarr, indexer, new_indexer \u001B[38;5;241m=\u001B[39m \u001B[38;5;28mself\u001B[39m\u001B[38;5;241m.\u001B[39m_reindex_non_unique(keyarr)\n\u001B[0;32m-> 6115\u001B[0m \u001B[38;5;28;43mself\u001B[39;49m\u001B[38;5;241;43m.\u001B[39;49m\u001B[43m_raise_if_missing\u001B[49m\u001B[43m(\u001B[49m\u001B[43mkeyarr\u001B[49m\u001B[43m,\u001B[49m\u001B[43m \u001B[49m\u001B[43mindexer\u001B[49m\u001B[43m,\u001B[49m\u001B[43m \u001B[49m\u001B[43maxis_name\u001B[49m\u001B[43m)\u001B[49m\n\u001B[1;32m   6117\u001B[0m keyarr \u001B[38;5;241m=\u001B[39m \u001B[38;5;28mself\u001B[39m\u001B[38;5;241m.\u001B[39mtake(indexer)\n\u001B[1;32m   6118\u001B[0m \u001B[38;5;28;01mif\u001B[39;00m \u001B[38;5;28misinstance\u001B[39m(key, Index):\n\u001B[1;32m   6119\u001B[0m     \u001B[38;5;66;03m# GH 42790 - Preserve name from an Index\u001B[39;00m\n",
      "File \u001B[0;32m~/Downloads/Live-Stock-Sentiment_Treemap-main-2_PARSEC/venv/lib/python3.9/site-packages/pandas/core/indexes/base.py:6179\u001B[0m, in \u001B[0;36mIndex._raise_if_missing\u001B[0;34m(self, key, indexer, axis_name)\u001B[0m\n\u001B[1;32m   6176\u001B[0m     \u001B[38;5;28;01mraise\u001B[39;00m \u001B[38;5;167;01mKeyError\u001B[39;00m(\u001B[38;5;124mf\u001B[39m\u001B[38;5;124m\"\u001B[39m\u001B[38;5;124mNone of [\u001B[39m\u001B[38;5;132;01m{\u001B[39;00mkey\u001B[38;5;132;01m}\u001B[39;00m\u001B[38;5;124m] are in the [\u001B[39m\u001B[38;5;132;01m{\u001B[39;00maxis_name\u001B[38;5;132;01m}\u001B[39;00m\u001B[38;5;124m]\u001B[39m\u001B[38;5;124m\"\u001B[39m)\n\u001B[1;32m   6178\u001B[0m not_found \u001B[38;5;241m=\u001B[39m \u001B[38;5;28mlist\u001B[39m(ensure_index(key)[missing_mask\u001B[38;5;241m.\u001B[39mnonzero()[\u001B[38;5;241m0\u001B[39m]]\u001B[38;5;241m.\u001B[39munique())\n\u001B[0;32m-> 6179\u001B[0m \u001B[38;5;28;01mraise\u001B[39;00m \u001B[38;5;167;01mKeyError\u001B[39;00m(\u001B[38;5;124mf\u001B[39m\u001B[38;5;124m\"\u001B[39m\u001B[38;5;132;01m{\u001B[39;00mnot_found\u001B[38;5;132;01m}\u001B[39;00m\u001B[38;5;124m not in index\u001B[39m\u001B[38;5;124m\"\u001B[39m)\n",
      "\u001B[0;31mKeyError\u001B[0m: \"['neg', 'neu', 'pos', 'compound'] not in index\""
     ]
    }
   ],
   "source": [
    "\n",
    "print(news_df.groupby(['ticker']))\n",
    "mean_scores = news_df.groupby(['ticker'])\n",
    "mean_df = news_df.loc[:,['ticker', 'neg', 'neu', 'pos', 'compound']].groupby(['ticker']).mean()\n",
    "print(mean_df)\n",
    "\n",
    "\n"
   ]
  },
  {
   "cell_type": "code",
   "execution_count": 7,
   "metadata": {
    "ExecuteTime": {
     "end_time": "2024-01-09T20:24:54.088277Z",
     "start_time": "2024-01-09T20:24:53.874872Z"
    }
   },
   "outputs": [
    {
     "data": {
      "text/plain": [
       "{'address1': '1600 Amphitheatre Parkway',\n",
       " 'city': 'Mountain View',\n",
       " 'state': 'CA',\n",
       " 'zip': '94043',\n",
       " 'country': 'United States',\n",
       " 'phone': '650 253 0000',\n",
       " 'website': 'https://www.abc.xyz',\n",
       " 'industry': 'Internet Content & Information',\n",
       " 'industryKey': 'internet-content-information',\n",
       " 'industryDisp': 'Internet Content & Information',\n",
       " 'sector': 'Communication Services',\n",
       " 'sectorKey': 'communication-services',\n",
       " 'sectorDisp': 'Communication Services',\n",
       " 'longBusinessSummary': 'Alphabet Inc. offers various products and platforms in the United States, Europe, the Middle East, Africa, the Asia-Pacific, Canada, and Latin America. It operates through Google Services, Google Cloud, and Other Bets segments. The Google Services segment provides products and services, including ads, Android, Chrome, hardware, Gmail, Google Drive, Google Maps, Google Photos, Google Play, Search, and YouTube. It is also involved in the sale of apps and in-app purchases and digital content in the Google Play store; and Fitbit wearable devices, Google Nest home products, Pixel phones, and other devices, as well as in the provision of YouTube non-advertising services. The Google Cloud segment offers infrastructure, cybersecurity, data, analytics, AI, and machine learning, and other services; Google Workspace that include cloud-based collaboration tools for enterprises, such as Gmail, Docs, Drive, Calendar, and Meet; and other services for enterprise customers. The Other Bets segment sells health technology and internet services. The company was founded in 1998 and is headquartered in Mountain View, California.',\n",
       " 'fullTimeEmployees': 182381,\n",
       " 'companyOfficers': [{'maxAge': 1,\n",
       "   'name': 'Mr. Sundar  Pichai',\n",
       "   'age': 50,\n",
       "   'title': 'CEO & Director',\n",
       "   'yearBorn': 1973,\n",
       "   'fiscalYear': 2022,\n",
       "   'totalPay': 7947461,\n",
       "   'exercisedValue': 39618220,\n",
       "   'unexercisedValue': 0},\n",
       "  {'maxAge': 1,\n",
       "   'name': 'Ms. Ruth M. Porat',\n",
       "   'age': 65,\n",
       "   'title': 'President, Chief Investment Officer, Senior VP & CFO',\n",
       "   'yearBorn': 1958,\n",
       "   'fiscalYear': 2022,\n",
       "   'totalPay': 1790046,\n",
       "   'exercisedValue': 0,\n",
       "   'unexercisedValue': 0},\n",
       "  {'maxAge': 1,\n",
       "   'name': 'Mr. Lawrence Edward Page',\n",
       "   'age': 50,\n",
       "   'title': 'Co-Founder & Director',\n",
       "   'yearBorn': 1973,\n",
       "   'fiscalYear': 2022,\n",
       "   'totalPay': 1,\n",
       "   'exercisedValue': 0,\n",
       "   'unexercisedValue': 0},\n",
       "  {'maxAge': 1,\n",
       "   'name': 'Mr. Sergey  Brin',\n",
       "   'age': 49,\n",
       "   'title': 'Co-Founder & Director',\n",
       "   'yearBorn': 1974,\n",
       "   'fiscalYear': 2022,\n",
       "   'totalPay': 1,\n",
       "   'exercisedValue': 0,\n",
       "   'unexercisedValue': 0},\n",
       "  {'maxAge': 1,\n",
       "   'name': 'Mr. J. Kent Walker',\n",
       "   'age': 62,\n",
       "   'title': 'President of Global Affairs, Chief Legal Officer & Company Secretary',\n",
       "   'yearBorn': 1961,\n",
       "   'fiscalYear': 2022,\n",
       "   'totalPay': 1787541,\n",
       "   'exercisedValue': 0,\n",
       "   'unexercisedValue': 0},\n",
       "  {'maxAge': 1,\n",
       "   'name': 'Dr. Prabhakar  Raghavan',\n",
       "   'age': 62,\n",
       "   'title': 'Senior Vice President of Knowledge and Information - Google',\n",
       "   'yearBorn': 1961,\n",
       "   'fiscalYear': 2022,\n",
       "   'totalPay': 1785329,\n",
       "   'exercisedValue': 0,\n",
       "   'unexercisedValue': 0},\n",
       "  {'maxAge': 1,\n",
       "   'name': 'Mr. Philipp  Schindler',\n",
       "   'age': 52,\n",
       "   'title': 'Senior Vice President & Chief Business Officer of Google',\n",
       "   'yearBorn': 1971,\n",
       "   'fiscalYear': 2022,\n",
       "   'totalPay': 1785814,\n",
       "   'exercisedValue': 0,\n",
       "   'unexercisedValue': 0},\n",
       "  {'maxAge': 1,\n",
       "   'name': \"Ms. Amie Thuener O'Toole\",\n",
       "   'age': 48,\n",
       "   'title': 'Chief Accounting Officer & VP',\n",
       "   'yearBorn': 1975,\n",
       "   'fiscalYear': 2022,\n",
       "   'exercisedValue': 0,\n",
       "   'unexercisedValue': 0},\n",
       "  {'maxAge': 1,\n",
       "   'name': 'Ms. Ellen  West',\n",
       "   'title': 'Vice President of Investor Relations',\n",
       "   'fiscalYear': 2022,\n",
       "   'exercisedValue': 0,\n",
       "   'unexercisedValue': 0},\n",
       "  {'maxAge': 1,\n",
       "   'name': 'Ms. Fiona Clare Cicconi',\n",
       "   'age': 57,\n",
       "   'title': 'Chief People Officer',\n",
       "   'yearBorn': 1966,\n",
       "   'fiscalYear': 2022,\n",
       "   'exercisedValue': 0,\n",
       "   'unexercisedValue': 0}],\n",
       " 'auditRisk': 10,\n",
       " 'boardRisk': 7,\n",
       " 'compensationRisk': 10,\n",
       " 'shareHolderRightsRisk': 10,\n",
       " 'overallRisk': 10,\n",
       " 'governanceEpochDate': 1704067200,\n",
       " 'compensationAsOfEpochDate': 1672444800,\n",
       " 'maxAge': 86400,\n",
       " 'priceHint': 2,\n",
       " 'previousClose': 142.56,\n",
       " 'open': 142.52,\n",
       " 'dayLow': 142.46,\n",
       " 'dayHigh': 144.525,\n",
       " 'regularMarketPreviousClose': 142.56,\n",
       " 'regularMarketOpen': 142.52,\n",
       " 'regularMarketDayLow': 142.46,\n",
       " 'regularMarketDayHigh': 144.525,\n",
       " 'beta': 1.054,\n",
       " 'trailingPE': 27.50958,\n",
       " 'forwardPE': 23.735537,\n",
       " 'volume': 12325628,\n",
       " 'regularMarketVolume': 12325628,\n",
       " 'averageVolume': 22268313,\n",
       " 'averageVolume10days': 16439640,\n",
       " 'averageDailyVolume10Day': 16439640,\n",
       " 'bid': 143.72,\n",
       " 'ask': 143.73,\n",
       " 'bidSize': 1000,\n",
       " 'askSize': 800,\n",
       " 'marketCap': 1786211860480,\n",
       " 'fiftyTwoWeekLow': 88.86,\n",
       " 'fiftyTwoWeekHigh': 144.525,\n",
       " 'priceToSalesTrailing12Months': 6.0115094,\n",
       " 'fiftyDayAverage': 135.2832,\n",
       " 'twoHundredDayAverage': 126.68133,\n",
       " 'currency': 'USD',\n",
       " 'enterpriseValue': 1694792024064,\n",
       " 'profitMargins': 0.22459,\n",
       " 'floatShares': 10787665560,\n",
       " 'sharesOutstanding': 5725000192,\n",
       " 'sharesShort': 41496239,\n",
       " 'sharesShortPriorMonth': 34362520,\n",
       " 'sharesShortPreviousMonthDate': 1700006400,\n",
       " 'dateShortInterest': 1702598400,\n",
       " 'sharesPercentSharesOut': 0.0033000002,\n",
       " 'heldPercentInsiders': 0.00017000001,\n",
       " 'heldPercentInstitutions': 0.62205005,\n",
       " 'shortRatio': 1.76,\n",
       " 'impliedSharesOutstanding': 12655500288,\n",
       " 'bookValue': 21.785,\n",
       " 'priceToBook': 6.591692,\n",
       " 'lastFiscalYearEnd': 1672444800,\n",
       " 'nextFiscalYearEnd': 1703980800,\n",
       " 'mostRecentQuarter': 1696032000,\n",
       " 'earningsQuarterlyGrowth': 0.415,\n",
       " 'netIncomeToCommon': 66731999232,\n",
       " 'trailingEps': 5.22,\n",
       " 'forwardEps': 6.05,\n",
       " 'pegRatio': 1.59,\n",
       " 'lastSplitFactor': '20:1',\n",
       " 'lastSplitDate': 1658102400,\n",
       " 'enterpriseToRevenue': 5.704,\n",
       " 'enterpriseToEbitda': 17.641,\n",
       " '52WeekChange': 0.52319527,\n",
       " 'SandP52WeekChange': 0.20000207,\n",
       " 'exchange': 'NMS',\n",
       " 'quoteType': 'EQUITY',\n",
       " 'symbol': 'GOOG',\n",
       " 'underlyingSymbol': 'GOOG',\n",
       " 'shortName': 'Alphabet Inc.',\n",
       " 'longName': 'Alphabet Inc.',\n",
       " 'firstTradeDateEpochUtc': 1092922200,\n",
       " 'timeZoneFullName': 'America/New_York',\n",
       " 'timeZoneShortName': 'EST',\n",
       " 'uuid': 'ee8cce8c-2475-31c0-8436-ecdf889cbfbd',\n",
       " 'messageBoardId': 'finmb_29096',\n",
       " 'gmtOffSetMilliseconds': -18000000,\n",
       " 'currentPrice': 143.6,\n",
       " 'targetHighPrice': 155.23,\n",
       " 'targetLowPrice': 118.7,\n",
       " 'targetMeanPrice': 134.77,\n",
       " 'targetMedianPrice': 134.68,\n",
       " 'recommendationMean': 1.7,\n",
       " 'recommendationKey': 'buy',\n",
       " 'numberOfAnalystOpinions': 10,\n",
       " 'totalCash': 119935000576,\n",
       " 'totalCashPerShare': 9.583,\n",
       " 'ebitda': 96071000064,\n",
       " 'totalDebt': 30446000128,\n",
       " 'quickRatio': 1.865,\n",
       " 'currentRatio': 2.043,\n",
       " 'totalRevenue': 297131999232,\n",
       " 'debtToEquity': 11.144,\n",
       " 'revenuePerShare': 23.337,\n",
       " 'returnOnAssets': 0.13492,\n",
       " 'returnOnEquity': 0.25334,\n",
       " 'grossProfits': 156633000000,\n",
       " 'freeCashflow': 70757122048,\n",
       " 'operatingCashflow': 106444996608,\n",
       " 'earningsGrowth': 0.46,\n",
       " 'revenueGrowth': 0.11,\n",
       " 'grossMargins': 0.56122,\n",
       " 'ebitdaMargins': 0.32333001,\n",
       " 'operatingMargins': 0.27962,\n",
       " 'financialCurrency': 'USD',\n",
       " 'trailingPegRatio': 1.3425}"
      ]
     },
     "execution_count": 7,
     "metadata": {},
     "output_type": "execute_result"
    }
   ],
   "source": [
    "\n",
    "tickerdata = yf.Ticker('GOOG')\n",
    "tickerdata.info"
   ]
  },
  {
   "cell_type": "code",
   "execution_count": 30,
   "metadata": {
    "ExecuteTime": {
     "end_time": "2024-01-11T19:55:11.515699Z",
     "start_time": "2024-01-11T19:55:07.420842Z"
    }
   },
   "outputs": [
    {
     "name": "stdout",
     "output_type": "stream",
     "text": [
      "AMZN\n",
      "TSLA\n",
      "GOOG\n",
      "META\n",
      "KO\n",
      "PEP\n",
      "BA\n",
      "XOM\n",
      "CVX\n",
      "UNH\n",
      "JNJ\n",
      "JPM\n",
      "BAC\n",
      "C\n",
      "SPG\n",
      "AAPL\n",
      "MSFT\n",
      "WMT\n",
      "LMT\n",
      "PFE\n",
      "MMM\n",
      "DIS\n",
      "AIG\n",
      "BRK-B\n",
      "SLB\n",
      "PLD\n",
      "AMD\n",
      "ISRG\n",
      "INTC\n"
     ]
    }
   ],
   "source": [
    "\n",
    "sectors = []\n",
    "industries = []\n",
    "prices = []\n",
    "for ticker in tickers:\n",
    "    print(ticker)\n",
    "    tickerdata = yf.Ticker(ticker)\n",
    "    prices.append(tickerdata.info.get('regularMarketPrice', tickerdata.info.get('currentPrice')))\n",
    "    sectors.append(tickerdata.info.get('sector'))\n",
    "    industries.append(tickerdata.info.get('industry'))\n",
    "\n",
    "d = {'ticker': tickers, 'Sector': sectors, 'Industry': industries, 'Price': prices, 'No. of Shares': n_shares}\n",
    "df_info = pd.DataFrame(data=d).set_index('ticker')\n"
   ]
  },
  {
   "cell_type": "code",
   "execution_count": 15,
   "metadata": {
    "ExecuteTime": {
     "end_time": "2024-01-09T20:24:56.083919Z",
     "start_time": "2024-01-09T20:24:56.076215Z"
    }
   },
   "outputs": [
    {
     "name": "stdout",
     "output_type": "stream",
     "text": [
      "                        Sector                        Industry     Price  \\\n",
      "ticker                                                                     \n",
      "AMZN         Consumer Cyclical                 Internet Retail  153.3050   \n",
      "TSLA         Consumer Cyclical              Auto Manufacturers  232.9500   \n",
      "GOOG    Communication Services  Internet Content & Information  143.5700   \n",
      "META    Communication Services  Internet Content & Information  370.5100   \n",
      "KO          Consumer Defensive       Beverages - Non-Alcoholic   60.2200   \n",
      "PEP         Consumer Defensive       Beverages - Non-Alcoholic  166.7050   \n",
      "BA                 Industrials             Aerospace & Defense  227.7700   \n",
      "XOM                     Energy            Oil & Gas Integrated   98.4750   \n",
      "CVX                     Energy            Oil & Gas Integrated  144.5801   \n",
      "UNH                 Healthcare                Healthcare Plans  537.7739   \n",
      "JNJ                 Healthcare    Drug Manufacturers - General  161.7800   \n",
      "JPM         Financial Services             Banks - Diversified  170.9050   \n",
      "BAC         Financial Services             Banks - Diversified   33.5900   \n",
      "C           Financial Services             Banks - Diversified   53.0350   \n",
      "SPG                Real Estate                   REIT - Retail  144.5303   \n",
      "AAPL                Technology            Consumer Electronics  185.7401   \n",
      "MSFT                Technology       Software - Infrastructure  382.3382   \n",
      "WMT         Consumer Defensive                 Discount Stores  161.0386   \n",
      "LMT                Industrials             Aerospace & Defense  455.7500   \n",
      "PFE                 Healthcare    Drug Manufacturers - General   28.9750   \n",
      "MMM                Industrials                   Conglomerates  108.4100   \n",
      "DIS     Communication Services                   Entertainment   89.2700   \n",
      "AIG         Financial Services         Insurance - Diversified   67.5700   \n",
      "BRK-B       Financial Services         Insurance - Diversified  367.0200   \n",
      "SLB                     Energy  Oil & Gas Equipment & Services   48.2100   \n",
      "PLD                Real Estate               REIT - Industrial  133.5000   \n",
      "AMD                 Technology                  Semiconductors  148.4300   \n",
      "ISRG                Healthcare  Medical Instruments & Supplies  364.4450   \n",
      "INTC                Technology                  Semiconductors   47.4102   \n",
      "\n",
      "        No. of Shares  Total Stock Value in Portfolio  \n",
      "ticker                                                 \n",
      "AMZN                5                        766.5250  \n",
      "TSLA                1                        232.9500  \n",
      "GOOG                3                        430.7100  \n",
      "META                3                       1111.5300  \n",
      "KO                 10                        602.2000  \n",
      "PEP                 5                        833.5250  \n",
      "BA                  5                       1138.8500  \n",
      "XOM                 5                        492.3750  \n",
      "CVX                 4                        578.3204  \n",
      "UNH                 1                        537.7739  \n",
      "JNJ                 3                        485.3400  \n",
      "JPM                 3                        512.7150  \n",
      "BAC                 5                        167.9500  \n",
      "C                   5                        265.1750  \n",
      "SPG                10                       1445.3030  \n",
      "AAPL                6                       1114.4406  \n",
      "MSFT                5                       1911.6910  \n",
      "WMT                 6                        966.2316  \n",
      "LMT                 2                        911.5000  \n",
      "PFE                10                        289.7500  \n",
      "MMM                 3                        325.2300  \n",
      "DIS                 8                        714.1600  \n",
      "AIG                 5                        337.8500  \n",
      "BRK-B               4                       1468.0800  \n",
      "SLB                16                        771.3600  \n",
      "PLD                 5                        667.5000  \n",
      "AMD                 5                        742.1500  \n",
      "ISRG                3                       1093.3350  \n",
      "INTC                5                        237.0510  \n"
     ]
    }
   ],
   "source": [
    "\n",
    "df_info['Total Stock Value in Portfolio'] = df_info['Price']*df_info['No. of Shares']\n",
    "print(df_info)"
   ]
  },
  {
   "cell_type": "code",
   "execution_count": 16,
   "metadata": {
    "ExecuteTime": {
     "end_time": "2024-01-09T20:24:56.118610Z",
     "start_time": "2024-01-09T20:24:56.090225Z"
    }
   },
   "outputs": [
    {
     "name": "stdout",
     "output_type": "stream",
     "text": [
      "            neg      neu      pos  compound                  Sector  \\\n",
      "ticker                                                                \n",
      "AAPL    0.05230  0.83567  0.11203  0.108418              Technology   \n",
      "AIG     0.02249  0.86269  0.11484  0.155570      Financial Services   \n",
      "AMD     0.01634  0.84440  0.13925  0.204235              Technology   \n",
      "AMZN    0.04339  0.75616  0.20043  0.231692       Consumer Cyclical   \n",
      "BA      0.09606  0.83572  0.06823 -0.064605             Industrials   \n",
      "BAC     0.02955  0.87319  0.09725  0.123370      Financial Services   \n",
      "BRK-B   0.05353  0.84034  0.10616  0.069860      Financial Services   \n",
      "C       0.05237  0.87120  0.07643  0.057144      Financial Services   \n",
      "CVX     0.07412  0.81226  0.11364  0.049031                  Energy   \n",
      "DIS     0.07593  0.84978  0.07427 -0.009016  Communication Services   \n",
      "GOOG    0.03544  0.83546  0.12909  0.169856  Communication Services   \n",
      "INTC    0.02881  0.87615  0.09503  0.114835              Technology   \n",
      "ISRG    0.02085  0.86483  0.11434  0.158836              Healthcare   \n",
      "JNJ     0.03674  0.82713  0.13614  0.135704              Healthcare   \n",
      "JPM     0.04404  0.86435  0.09161  0.087552      Financial Services   \n",
      "KO      0.03343  0.79048  0.17609  0.209408      Consumer Defensive   \n",
      "LMT     0.03918  0.81690  0.14391  0.172232             Industrials   \n",
      "META    0.04569  0.79872  0.15556  0.219538  Communication Services   \n",
      "MMM     0.03586  0.87023  0.09391  0.096176             Industrials   \n",
      "MSFT    0.03911  0.83952  0.12138  0.164183              Technology   \n",
      "PEP     0.03643  0.82440  0.13919  0.180857      Consumer Defensive   \n",
      "PFE     0.05728  0.82283  0.11989  0.096744              Healthcare   \n",
      "PLD     0.02695  0.85319  0.11987  0.158537             Real Estate   \n",
      "SLB     0.06150  0.79070  0.14780  0.159774                  Energy   \n",
      "SPG     0.02177  0.88269  0.09557  0.125776             Real Estate   \n",
      "TSLA    0.06645  0.85293  0.08063  0.029973       Consumer Cyclical   \n",
      "UNH     0.01548  0.84471  0.13979  0.197764              Healthcare   \n",
      "WMT     0.06382  0.80201  0.13417  0.109269      Consumer Defensive   \n",
      "XOM     0.05972  0.83142  0.10887  0.087399                  Energy   \n",
      "\n",
      "                              Industry     Price  No. of Shares  \\\n",
      "ticker                                                            \n",
      "AAPL              Consumer Electronics  185.7401              6   \n",
      "AIG            Insurance - Diversified   67.5700              5   \n",
      "AMD                     Semiconductors  148.4300              5   \n",
      "AMZN                   Internet Retail  153.3050              5   \n",
      "BA                 Aerospace & Defense  227.7700              5   \n",
      "BAC                Banks - Diversified   33.5900              5   \n",
      "BRK-B          Insurance - Diversified  367.0200              4   \n",
      "C                  Banks - Diversified   53.0350              5   \n",
      "CVX               Oil & Gas Integrated  144.5801              4   \n",
      "DIS                      Entertainment   89.2700              8   \n",
      "GOOG    Internet Content & Information  143.5700              3   \n",
      "INTC                    Semiconductors   47.4102              5   \n",
      "ISRG    Medical Instruments & Supplies  364.4450              3   \n",
      "JNJ       Drug Manufacturers - General  161.7800              3   \n",
      "JPM                Banks - Diversified  170.9050              3   \n",
      "KO           Beverages - Non-Alcoholic   60.2200             10   \n",
      "LMT                Aerospace & Defense  455.7500              2   \n",
      "META    Internet Content & Information  370.5100              3   \n",
      "MMM                      Conglomerates  108.4100              3   \n",
      "MSFT         Software - Infrastructure  382.3382              5   \n",
      "PEP          Beverages - Non-Alcoholic  166.7050              5   \n",
      "PFE       Drug Manufacturers - General   28.9750             10   \n",
      "PLD                  REIT - Industrial  133.5000              5   \n",
      "SLB     Oil & Gas Equipment & Services   48.2100             16   \n",
      "SPG                      REIT - Retail  144.5303             10   \n",
      "TSLA                Auto Manufacturers  232.9500              1   \n",
      "UNH                   Healthcare Plans  537.7739              1   \n",
      "WMT                    Discount Stores  161.0386              6   \n",
      "XOM               Oil & Gas Integrated   98.4750              5   \n",
      "\n",
      "        Total Stock Value in Portfolio  \n",
      "ticker                                  \n",
      "AAPL                         1114.4406  \n",
      "AIG                           337.8500  \n",
      "AMD                           742.1500  \n",
      "AMZN                          766.5250  \n",
      "BA                           1138.8500  \n",
      "BAC                           167.9500  \n",
      "BRK-B                        1468.0800  \n",
      "C                             265.1750  \n",
      "CVX                           578.3204  \n",
      "DIS                           714.1600  \n",
      "GOOG                          430.7100  \n",
      "INTC                          237.0510  \n",
      "ISRG                         1093.3350  \n",
      "JNJ                           485.3400  \n",
      "JPM                           512.7150  \n",
      "KO                            602.2000  \n",
      "LMT                           911.5000  \n",
      "META                         1111.5300  \n",
      "MMM                           325.2300  \n",
      "MSFT                         1911.6910  \n",
      "PEP                           833.5250  \n",
      "PFE                           289.7500  \n",
      "PLD                           667.5000  \n",
      "SLB                           771.3600  \n",
      "SPG                          1445.3030  \n",
      "TSLA                          232.9500  \n",
      "UNH                           537.7739  \n",
      "WMT                           966.2316  \n",
      "XOM                           492.3750  \n",
      "            neg      neu      pos  compound\n",
      "ticker                                     \n",
      "AAPL    0.05230  0.83567  0.11203  0.108418\n",
      "AIG     0.02249  0.86269  0.11484  0.155570\n",
      "AMD     0.01634  0.84440  0.13925  0.204235\n",
      "AMZN    0.04339  0.75616  0.20043  0.231692\n",
      "BA      0.09606  0.83572  0.06823 -0.064605\n",
      "BAC     0.02955  0.87319  0.09725  0.123370\n",
      "BRK-B   0.05353  0.84034  0.10616  0.069860\n",
      "C       0.05237  0.87120  0.07643  0.057144\n",
      "CVX     0.07412  0.81226  0.11364  0.049031\n",
      "DIS     0.07593  0.84978  0.07427 -0.009016\n",
      "GOOG    0.03544  0.83546  0.12909  0.169856\n",
      "INTC    0.02881  0.87615  0.09503  0.114835\n",
      "ISRG    0.02085  0.86483  0.11434  0.158836\n",
      "JNJ     0.03674  0.82713  0.13614  0.135704\n",
      "JPM     0.04404  0.86435  0.09161  0.087552\n",
      "KO      0.03343  0.79048  0.17609  0.209408\n",
      "LMT     0.03918  0.81690  0.14391  0.172232\n",
      "META    0.04569  0.79872  0.15556  0.219538\n",
      "MMM     0.03586  0.87023  0.09391  0.096176\n",
      "MSFT    0.03911  0.83952  0.12138  0.164183\n",
      "PEP     0.03643  0.82440  0.13919  0.180857\n",
      "PFE     0.05728  0.82283  0.11989  0.096744\n",
      "PLD     0.02695  0.85319  0.11987  0.158537\n",
      "SLB     0.06150  0.79070  0.14780  0.159774\n",
      "SPG     0.02177  0.88269  0.09557  0.125776\n",
      "TSLA    0.06645  0.85293  0.08063  0.029973\n",
      "UNH     0.01548  0.84471  0.13979  0.197764\n",
      "WMT     0.06382  0.80201  0.13417  0.109269\n",
      "XOM     0.05972  0.83142  0.10887  0.087399\n",
      "   ticker  Negative  Neutral  Positive  Sentiment Score  \\\n",
      "0    AAPL   0.05230  0.83567   0.11203         0.108418   \n",
      "1     AIG   0.02249  0.86269   0.11484         0.155570   \n",
      "2     AMD   0.01634  0.84440   0.13925         0.204235   \n",
      "3    AMZN   0.04339  0.75616   0.20043         0.231692   \n",
      "4      BA   0.09606  0.83572   0.06823        -0.064605   \n",
      "5     BAC   0.02955  0.87319   0.09725         0.123370   \n",
      "6   BRK-B   0.05353  0.84034   0.10616         0.069860   \n",
      "7       C   0.05237  0.87120   0.07643         0.057144   \n",
      "8     CVX   0.07412  0.81226   0.11364         0.049031   \n",
      "9     DIS   0.07593  0.84978   0.07427        -0.009016   \n",
      "10   GOOG   0.03544  0.83546   0.12909         0.169856   \n",
      "11   INTC   0.02881  0.87615   0.09503         0.114835   \n",
      "12   ISRG   0.02085  0.86483   0.11434         0.158836   \n",
      "13    JNJ   0.03674  0.82713   0.13614         0.135704   \n",
      "14    JPM   0.04404  0.86435   0.09161         0.087552   \n",
      "15     KO   0.03343  0.79048   0.17609         0.209408   \n",
      "16    LMT   0.03918  0.81690   0.14391         0.172232   \n",
      "17   META   0.04569  0.79872   0.15556         0.219538   \n",
      "18    MMM   0.03586  0.87023   0.09391         0.096176   \n",
      "19   MSFT   0.03911  0.83952   0.12138         0.164183   \n",
      "20    PEP   0.03643  0.82440   0.13919         0.180857   \n",
      "21    PFE   0.05728  0.82283   0.11989         0.096744   \n",
      "22    PLD   0.02695  0.85319   0.11987         0.158537   \n",
      "23    SLB   0.06150  0.79070   0.14780         0.159774   \n",
      "24    SPG   0.02177  0.88269   0.09557         0.125776   \n",
      "25   TSLA   0.06645  0.85293   0.08063         0.029973   \n",
      "26    UNH   0.01548  0.84471   0.13979         0.197764   \n",
      "27    WMT   0.06382  0.80201   0.13417         0.109269   \n",
      "28    XOM   0.05972  0.83142   0.10887         0.087399   \n",
      "\n",
      "                    Sector                        Industry     Price  \\\n",
      "0               Technology            Consumer Electronics  185.7401   \n",
      "1       Financial Services         Insurance - Diversified   67.5700   \n",
      "2               Technology                  Semiconductors  148.4300   \n",
      "3        Consumer Cyclical                 Internet Retail  153.3050   \n",
      "4              Industrials             Aerospace & Defense  227.7700   \n",
      "5       Financial Services             Banks - Diversified   33.5900   \n",
      "6       Financial Services         Insurance - Diversified  367.0200   \n",
      "7       Financial Services             Banks - Diversified   53.0350   \n",
      "8                   Energy            Oil & Gas Integrated  144.5801   \n",
      "9   Communication Services                   Entertainment   89.2700   \n",
      "10  Communication Services  Internet Content & Information  143.5700   \n",
      "11              Technology                  Semiconductors   47.4102   \n",
      "12              Healthcare  Medical Instruments & Supplies  364.4450   \n",
      "13              Healthcare    Drug Manufacturers - General  161.7800   \n",
      "14      Financial Services             Banks - Diversified  170.9050   \n",
      "15      Consumer Defensive       Beverages - Non-Alcoholic   60.2200   \n",
      "16             Industrials             Aerospace & Defense  455.7500   \n",
      "17  Communication Services  Internet Content & Information  370.5100   \n",
      "18             Industrials                   Conglomerates  108.4100   \n",
      "19              Technology       Software - Infrastructure  382.3382   \n",
      "20      Consumer Defensive       Beverages - Non-Alcoholic  166.7050   \n",
      "21              Healthcare    Drug Manufacturers - General   28.9750   \n",
      "22             Real Estate               REIT - Industrial  133.5000   \n",
      "23                  Energy  Oil & Gas Equipment & Services   48.2100   \n",
      "24             Real Estate                   REIT - Retail  144.5303   \n",
      "25       Consumer Cyclical              Auto Manufacturers  232.9500   \n",
      "26              Healthcare                Healthcare Plans  537.7739   \n",
      "27      Consumer Defensive                 Discount Stores  161.0386   \n",
      "28                  Energy            Oil & Gas Integrated   98.4750   \n",
      "\n",
      "    No. of Shares  Total Stock Value in Portfolio  \n",
      "0               6                       1114.4406  \n",
      "1               5                        337.8500  \n",
      "2               5                        742.1500  \n",
      "3               5                        766.5250  \n",
      "4               5                       1138.8500  \n",
      "5               5                        167.9500  \n",
      "6               4                       1468.0800  \n",
      "7               5                        265.1750  \n",
      "8               4                        578.3204  \n",
      "9               8                        714.1600  \n",
      "10              3                        430.7100  \n",
      "11              5                        237.0510  \n",
      "12              3                       1093.3350  \n",
      "13              3                        485.3400  \n",
      "14              3                        512.7150  \n",
      "15             10                        602.2000  \n",
      "16              2                        911.5000  \n",
      "17              3                       1111.5300  \n",
      "18              3                        325.2300  \n",
      "19              5                       1911.6910  \n",
      "20              5                        833.5250  \n",
      "21             10                        289.7500  \n",
      "22              5                        667.5000  \n",
      "23             16                        771.3600  \n",
      "24             10                       1445.3030  \n",
      "25              1                        232.9500  \n",
      "26              1                        537.7739  \n",
      "27              6                        966.2316  \n",
      "28              5                        492.3750  \n"
     ]
    }
   ],
   "source": [
    "\n",
    "df = mean_df.merge(df_info, left_index=True, right_index=True)\n",
    "\n",
    "df = df.rename(columns={\"compound\": \"Sentiment Score\", \"neg\": \"Negative\", \"neu\": \"Neutral\", \"pos\": \"Positive\"})\n",
    "df = df.reset_index()\n",
    "df.head()\n",
    "print(df)"
   ]
  },
  {
   "cell_type": "code",
   "execution_count": 17,
   "metadata": {
    "ExecuteTime": {
     "end_time": "2024-01-09T20:24:56.138872Z",
     "start_time": "2024-01-09T20:24:56.099781Z"
    }
   },
   "outputs": [],
   "source": [
    "\n",
    "import matplotlib.pyplot as plt\n",
    "%matplotlib inline\n",
    "import plotly\n",
    "import plotly.express as px"
   ]
  },
  {
   "cell_type": "code",
   "execution_count": 18,
   "metadata": {
    "ExecuteTime": {
     "end_time": "2024-01-09T23:41:04.942058Z",
     "start_time": "2024-01-09T23:41:03.990074Z"
    }
   },
   "outputs": [
    {
     "name": "stdout",
     "output_type": "stream",
     "text": [
      "   ticker  Negative  Neutral  Positive  Sentiment Score  \\\n",
      "0    AAPL   0.05230  0.83567   0.11203         0.108418   \n",
      "1     AIG   0.02249  0.86269   0.11484         0.155570   \n",
      "2     AMD   0.01634  0.84440   0.13925         0.204235   \n",
      "3    AMZN   0.04339  0.75616   0.20043         0.231692   \n",
      "4      BA   0.09606  0.83572   0.06823        -0.064605   \n",
      "5     BAC   0.02955  0.87319   0.09725         0.123370   \n",
      "6   BRK-B   0.05353  0.84034   0.10616         0.069860   \n",
      "7       C   0.05237  0.87120   0.07643         0.057144   \n",
      "8     CVX   0.07412  0.81226   0.11364         0.049031   \n",
      "9     DIS   0.07593  0.84978   0.07427        -0.009016   \n",
      "10   GOOG   0.03544  0.83546   0.12909         0.169856   \n",
      "11   INTC   0.02881  0.87615   0.09503         0.114835   \n",
      "12   ISRG   0.02085  0.86483   0.11434         0.158836   \n",
      "13    JNJ   0.03674  0.82713   0.13614         0.135704   \n",
      "14    JPM   0.04404  0.86435   0.09161         0.087552   \n",
      "15     KO   0.03343  0.79048   0.17609         0.209408   \n",
      "16    LMT   0.03918  0.81690   0.14391         0.172232   \n",
      "17   META   0.04569  0.79872   0.15556         0.219538   \n",
      "18    MMM   0.03586  0.87023   0.09391         0.096176   \n",
      "19   MSFT   0.03911  0.83952   0.12138         0.164183   \n",
      "20    PEP   0.03643  0.82440   0.13919         0.180857   \n",
      "21    PFE   0.05728  0.82283   0.11989         0.096744   \n",
      "22    PLD   0.02695  0.85319   0.11987         0.158537   \n",
      "23    SLB   0.06150  0.79070   0.14780         0.159774   \n",
      "24    SPG   0.02177  0.88269   0.09557         0.125776   \n",
      "25   TSLA   0.06645  0.85293   0.08063         0.029973   \n",
      "26    UNH   0.01548  0.84471   0.13979         0.197764   \n",
      "27    WMT   0.06382  0.80201   0.13417         0.109269   \n",
      "28    XOM   0.05972  0.83142   0.10887         0.087399   \n",
      "\n",
      "                    Sector                        Industry     Price  \\\n",
      "0               Technology            Consumer Electronics  185.7401   \n",
      "1       Financial Services         Insurance - Diversified   67.5700   \n",
      "2               Technology                  Semiconductors  148.4300   \n",
      "3        Consumer Cyclical                 Internet Retail  153.3050   \n",
      "4              Industrials             Aerospace & Defense  227.7700   \n",
      "5       Financial Services             Banks - Diversified   33.5900   \n",
      "6       Financial Services         Insurance - Diversified  367.0200   \n",
      "7       Financial Services             Banks - Diversified   53.0350   \n",
      "8                   Energy            Oil & Gas Integrated  144.5801   \n",
      "9   Communication Services                   Entertainment   89.2700   \n",
      "10  Communication Services  Internet Content & Information  143.5700   \n",
      "11              Technology                  Semiconductors   47.4102   \n",
      "12              Healthcare  Medical Instruments & Supplies  364.4450   \n",
      "13              Healthcare    Drug Manufacturers - General  161.7800   \n",
      "14      Financial Services             Banks - Diversified  170.9050   \n",
      "15      Consumer Defensive       Beverages - Non-Alcoholic   60.2200   \n",
      "16             Industrials             Aerospace & Defense  455.7500   \n",
      "17  Communication Services  Internet Content & Information  370.5100   \n",
      "18             Industrials                   Conglomerates  108.4100   \n",
      "19              Technology       Software - Infrastructure  382.3382   \n",
      "20      Consumer Defensive       Beverages - Non-Alcoholic  166.7050   \n",
      "21              Healthcare    Drug Manufacturers - General   28.9750   \n",
      "22             Real Estate               REIT - Industrial  133.5000   \n",
      "23                  Energy  Oil & Gas Equipment & Services   48.2100   \n",
      "24             Real Estate                   REIT - Retail  144.5303   \n",
      "25       Consumer Cyclical              Auto Manufacturers  232.9500   \n",
      "26              Healthcare                Healthcare Plans  537.7739   \n",
      "27      Consumer Defensive                 Discount Stores  161.0386   \n",
      "28                  Energy            Oil & Gas Integrated   98.4750   \n",
      "\n",
      "    No. of Shares  Total Stock Value in Portfolio  \n",
      "0               6                       1114.4406  \n",
      "1               5                        337.8500  \n",
      "2               5                        742.1500  \n",
      "3               5                        766.5250  \n",
      "4               5                       1138.8500  \n",
      "5               5                        167.9500  \n",
      "6               4                       1468.0800  \n",
      "7               5                        265.1750  \n",
      "8               4                        578.3204  \n",
      "9               8                        714.1600  \n",
      "10              3                        430.7100  \n",
      "11              5                        237.0510  \n",
      "12              3                       1093.3350  \n",
      "13              3                        485.3400  \n",
      "14              3                        512.7150  \n",
      "15             10                        602.2000  \n",
      "16              2                        911.5000  \n",
      "17              3                       1111.5300  \n",
      "18              3                        325.2300  \n",
      "19              5                       1911.6910  \n",
      "20              5                        833.5250  \n",
      "21             10                        289.7500  \n",
      "22              5                        667.5000  \n",
      "23             16                        771.3600  \n",
      "24             10                       1445.3030  \n",
      "25              1                        232.9500  \n",
      "26              1                        537.7739  \n",
      "27              6                        966.2316  \n",
      "28              5                        492.3750  \n"
     ]
    },
    {
     "data": {
      "application/vnd.plotly.v1+json": {
       "config": {
        "plotlyServerURL": "https://plot.ly"
       },
       "data": [
        {
         "branchvalues": "total",
         "customdata": [
          [
           185.74,
           0.052,
           0.836,
           0.112,
           0.108
          ],
          [
           67.57,
           0.022,
           0.863,
           0.115,
           0.156
          ],
          [
           148.43,
           0.016,
           0.844,
           0.139,
           0.204
          ],
          [
           153.305,
           0.043,
           0.756,
           0.2,
           0.232
          ],
          [
           227.77,
           0.096,
           0.836,
           0.068,
           -0.065
          ],
          [
           33.59,
           0.03,
           0.873,
           0.097,
           0.123
          ],
          [
           367.02,
           0.054,
           0.84,
           0.106,
           0.07
          ],
          [
           53.035,
           0.052,
           0.871,
           0.076,
           0.057
          ],
          [
           144.58,
           0.074,
           0.812,
           0.114,
           0.049
          ],
          [
           89.27,
           0.076,
           0.85,
           0.074,
           -0.009
          ],
          [
           143.57,
           0.035,
           0.835,
           0.129,
           0.17
          ],
          [
           47.41,
           0.029,
           0.876,
           0.095,
           0.115
          ],
          [
           364.445,
           0.021,
           0.865,
           0.114,
           0.159
          ],
          [
           161.78,
           0.037,
           0.827,
           0.136,
           0.136
          ],
          [
           170.905,
           0.044,
           0.864,
           0.092,
           0.088
          ],
          [
           60.22,
           0.033,
           0.79,
           0.176,
           0.209
          ],
          [
           455.75,
           0.039,
           0.817,
           0.144,
           0.172
          ],
          [
           370.51,
           0.046,
           0.799,
           0.156,
           0.22
          ],
          [
           108.41,
           0.036,
           0.87,
           0.094,
           0.096
          ],
          [
           382.338,
           0.039,
           0.84,
           0.121,
           0.164
          ],
          [
           166.705,
           0.036,
           0.824,
           0.139,
           0.181
          ],
          [
           28.975,
           0.057,
           0.823,
           0.12,
           0.097
          ],
          [
           133.5,
           0.027,
           0.853,
           0.12,
           0.159
          ],
          [
           48.21,
           0.062,
           0.791,
           0.148,
           0.16
          ],
          [
           144.53,
           0.022,
           0.883,
           0.096,
           0.126
          ],
          [
           232.95,
           0.066,
           0.853,
           0.081,
           0.03
          ],
          [
           537.774,
           0.015,
           0.845,
           0.14,
           0.198
          ],
          [
           161.039,
           0.064,
           0.802,
           0.134,
           0.109
          ],
          [
           98.475,
           0.06,
           0.831,
           0.109,
           0.087
          ]
         ],
         "domain": {
          "x": [
           0,
           1
          ],
          "y": [
           0,
           1
          ]
         },
         "hovertemplate": "labels=%{label}<br>Total Stock Value in Portfolio=%{value}<br>parent=%{parent}<br>id=%{id}<br>Price=%{customdata[0]}<br>Negative=%{customdata[1]}<br>Neutral=%{customdata[2]}<br>Positive=%{customdata[3]}<br>Sentiment Score=%{color}<extra></extra>",
         "ids": [
          "Sectors/Technology/Consumer Electronics/AAPL",
          "Sectors/Financial Services/Insurance - Diversified/AIG",
          "Sectors/Technology/Semiconductors/AMD",
          "Sectors/Consumer Cyclical/Internet Retail/AMZN",
          "Sectors/Industrials/Aerospace & Defense/BA",
          "Sectors/Financial Services/Banks - Diversified/BAC",
          "Sectors/Financial Services/Insurance - Diversified/BRK-B",
          "Sectors/Financial Services/Banks - Diversified/C",
          "Sectors/Energy/Oil & Gas Integrated/CVX",
          "Sectors/Communication Services/Entertainment/DIS",
          "Sectors/Communication Services/Internet Content & Information/GOOG",
          "Sectors/Technology/Semiconductors/INTC",
          "Sectors/Healthcare/Medical Instruments & Supplies/ISRG",
          "Sectors/Healthcare/Drug Manufacturers - General/JNJ",
          "Sectors/Financial Services/Banks - Diversified/JPM",
          "Sectors/Consumer Defensive/Beverages - Non-Alcoholic/KO",
          "Sectors/Industrials/Aerospace & Defense/LMT",
          "Sectors/Communication Services/Internet Content & Information/META",
          "Sectors/Industrials/Conglomerates/MMM",
          "Sectors/Technology/Software - Infrastructure/MSFT",
          "Sectors/Consumer Defensive/Beverages - Non-Alcoholic/PEP",
          "Sectors/Healthcare/Drug Manufacturers - General/PFE",
          "Sectors/Real Estate/REIT - Industrial/PLD",
          "Sectors/Energy/Oil & Gas Equipment & Services/SLB",
          "Sectors/Real Estate/REIT - Retail/SPG",
          "Sectors/Consumer Cyclical/Auto Manufacturers/TSLA",
          "Sectors/Healthcare/Healthcare Plans/UNH",
          "Sectors/Consumer Defensive/Discount Stores/WMT",
          "Sectors/Energy/Oil & Gas Integrated/XOM",
          "Sectors/Industrials/Aerospace & Defense",
          "Sectors/Consumer Cyclical/Auto Manufacturers",
          "Sectors/Financial Services/Banks - Diversified",
          "Sectors/Consumer Defensive/Beverages - Non-Alcoholic",
          "Sectors/Industrials/Conglomerates",
          "Sectors/Technology/Consumer Electronics",
          "Sectors/Consumer Defensive/Discount Stores",
          "Sectors/Healthcare/Drug Manufacturers - General",
          "Sectors/Communication Services/Entertainment",
          "Sectors/Healthcare/Healthcare Plans",
          "Sectors/Financial Services/Insurance - Diversified",
          "Sectors/Communication Services/Internet Content & Information",
          "Sectors/Consumer Cyclical/Internet Retail",
          "Sectors/Healthcare/Medical Instruments & Supplies",
          "Sectors/Energy/Oil & Gas Equipment & Services",
          "Sectors/Energy/Oil & Gas Integrated",
          "Sectors/Real Estate/REIT - Industrial",
          "Sectors/Real Estate/REIT - Retail",
          "Sectors/Technology/Semiconductors",
          "Sectors/Technology/Software - Infrastructure",
          "Sectors/Communication Services",
          "Sectors/Consumer Cyclical",
          "Sectors/Consumer Defensive",
          "Sectors/Energy",
          "Sectors/Financial Services",
          "Sectors/Healthcare",
          "Sectors/Industrials",
          "Sectors/Real Estate",
          "Sectors/Technology",
          "Sectors"
         ],
         "labels": [
          "AAPL",
          "AIG",
          "AMD",
          "AMZN",
          "BA",
          "BAC",
          "BRK-B",
          "C",
          "CVX",
          "DIS",
          "GOOG",
          "INTC",
          "ISRG",
          "JNJ",
          "JPM",
          "KO",
          "LMT",
          "META",
          "MMM",
          "MSFT",
          "PEP",
          "PFE",
          "PLD",
          "SLB",
          "SPG",
          "TSLA",
          "UNH",
          "WMT",
          "XOM",
          "Aerospace & Defense",
          "Auto Manufacturers",
          "Banks - Diversified",
          "Beverages - Non-Alcoholic",
          "Conglomerates",
          "Consumer Electronics",
          "Discount Stores",
          "Drug Manufacturers - General",
          "Entertainment",
          "Healthcare Plans",
          "Insurance - Diversified",
          "Internet Content & Information",
          "Internet Retail",
          "Medical Instruments & Supplies",
          "Oil & Gas Equipment & Services",
          "Oil & Gas Integrated",
          "REIT - Industrial",
          "REIT - Retail",
          "Semiconductors",
          "Software - Infrastructure",
          "Communication Services",
          "Consumer Cyclical",
          "Consumer Defensive",
          "Energy",
          "Financial Services",
          "Healthcare",
          "Industrials",
          "Real Estate",
          "Technology",
          "Sectors"
         ],
         "marker": {
          "coloraxis": "coloraxis",
          "colors": [
           0.10841799999999999,
           0.15557,
           0.204235,
           0.23169199999999998,
           -0.064605,
           0.12337000000000001,
           0.06985999999999999,
           0.057144,
           0.04903099999999999,
           -0.009015999999999995,
           0.169856,
           0.11483499999999999,
           0.158836,
           0.13570400000000002,
           0.087552,
           0.20940799999999998,
           0.172232,
           0.219538,
           0.096176,
           0.16418299999999997,
           0.18085700000000002,
           0.096744,
           0.158537,
           0.159774,
           0.125776,
           0.029973,
           0.197764,
           0.109269,
           0.08739899999999999,
           0.04068284134416074,
           0.029973,
           0.08538693159519581,
           0.1928324216162566,
           0.096176,
           0.10841799999999999,
           0.109269,
           0.12113967843734277,
           -0.009015999999999995,
           0.197764,
           0.08589446617532241,
           0.20566302968409586,
           0.23169199999999998,
           0.158836,
           0.159774,
           0.06667508813188139,
           0.158537,
           0.125776,
           0.18259249820516932,
           0.16418299999999997,
           0.13771622245169302,
           0.1846768760099052,
           0.15921748512250386,
           0.10566022216128787,
           0.08572001609146114,
           0.15539340034591487,
           0.04828016073127404,
           0.1361262160400189,
           0.1531676398755998,
           0.12755393034457035
          ]
         },
         "name": "",
         "parents": [
          "Sectors/Technology/Consumer Electronics",
          "Sectors/Financial Services/Insurance - Diversified",
          "Sectors/Technology/Semiconductors",
          "Sectors/Consumer Cyclical/Internet Retail",
          "Sectors/Industrials/Aerospace & Defense",
          "Sectors/Financial Services/Banks - Diversified",
          "Sectors/Financial Services/Insurance - Diversified",
          "Sectors/Financial Services/Banks - Diversified",
          "Sectors/Energy/Oil & Gas Integrated",
          "Sectors/Communication Services/Entertainment",
          "Sectors/Communication Services/Internet Content & Information",
          "Sectors/Technology/Semiconductors",
          "Sectors/Healthcare/Medical Instruments & Supplies",
          "Sectors/Healthcare/Drug Manufacturers - General",
          "Sectors/Financial Services/Banks - Diversified",
          "Sectors/Consumer Defensive/Beverages - Non-Alcoholic",
          "Sectors/Industrials/Aerospace & Defense",
          "Sectors/Communication Services/Internet Content & Information",
          "Sectors/Industrials/Conglomerates",
          "Sectors/Technology/Software - Infrastructure",
          "Sectors/Consumer Defensive/Beverages - Non-Alcoholic",
          "Sectors/Healthcare/Drug Manufacturers - General",
          "Sectors/Real Estate/REIT - Industrial",
          "Sectors/Energy/Oil & Gas Equipment & Services",
          "Sectors/Real Estate/REIT - Retail",
          "Sectors/Consumer Cyclical/Auto Manufacturers",
          "Sectors/Healthcare/Healthcare Plans",
          "Sectors/Consumer Defensive/Discount Stores",
          "Sectors/Energy/Oil & Gas Integrated",
          "Sectors/Industrials",
          "Sectors/Consumer Cyclical",
          "Sectors/Financial Services",
          "Sectors/Consumer Defensive",
          "Sectors/Industrials",
          "Sectors/Technology",
          "Sectors/Consumer Defensive",
          "Sectors/Healthcare",
          "Sectors/Communication Services",
          "Sectors/Healthcare",
          "Sectors/Financial Services",
          "Sectors/Communication Services",
          "Sectors/Consumer Cyclical",
          "Sectors/Healthcare",
          "Sectors/Energy",
          "Sectors/Energy",
          "Sectors/Real Estate",
          "Sectors/Real Estate",
          "Sectors/Technology",
          "Sectors/Technology",
          "Sectors",
          "Sectors",
          "Sectors",
          "Sectors",
          "Sectors",
          "Sectors",
          "Sectors",
          "Sectors",
          "Sectors",
          ""
         ],
         "textposition": "middle center",
         "texttemplate": "%{label}<br>%{customdata[4]}",
         "type": "treemap",
         "values": [
          1114.4406000000001,
          337.84999999999997,
          742.1500000000001,
          766.5250000000001,
          1138.8500000000001,
          167.95000000000002,
          1468.08,
          265.17499999999995,
          578.3204,
          714.16,
          430.71,
          237.05100000000002,
          1093.335,
          485.34000000000003,
          512.715,
          602.2,
          911.5,
          1111.53,
          325.23,
          1911.6909999999998,
          833.5250000000001,
          289.75,
          667.5,
          771.36,
          1445.303,
          232.95,
          537.7739,
          966.2316000000001,
          492.375,
          2050.3500000000004,
          232.95,
          945.84,
          1435.7250000000001,
          325.23,
          1114.4406000000001,
          966.2316000000001,
          775.09,
          714.16,
          537.7739,
          1805.9299999999998,
          1542.24,
          766.5250000000001,
          1093.335,
          771.36,
          1070.6954,
          667.5,
          1445.303,
          979.2010000000001,
          1911.6909999999998,
          2256.3999999999996,
          999.4750000000001,
          2401.9566000000004,
          1842.0554,
          2751.77,
          2406.1989000000003,
          2375.58,
          2112.803,
          4005.3325999999997,
          21151.571500000002
         ]
        }
       ],
       "layout": {
        "autosize": true,
        "coloraxis": {
         "cmid": 0,
         "colorbar": {
          "title": {
           "text": "Sentiment Score"
          }
         },
         "colorscale": [
          [
           0,
           "#FF0000"
          ],
          [
           0.5,
           "#000000"
          ],
          [
           1,
           "#b2b2b2"
          ]
         ]
        },
        "font": {
         "size": 20
        },
        "legend": {
         "tracegroupgap": 0
        },
        "margin": {
         "b": 10,
         "l": 10,
         "r": 10,
         "t": 30
        },
        "template": {
         "data": {
          "bar": [
           {
            "error_x": {
             "color": "#2a3f5f"
            },
            "error_y": {
             "color": "#2a3f5f"
            },
            "marker": {
             "line": {
              "color": "#E5ECF6",
              "width": 0.5
             },
             "pattern": {
              "fillmode": "overlay",
              "size": 10,
              "solidity": 0.2
             }
            },
            "type": "bar"
           }
          ],
          "barpolar": [
           {
            "marker": {
             "line": {
              "color": "#E5ECF6",
              "width": 0.5
             },
             "pattern": {
              "fillmode": "overlay",
              "size": 10,
              "solidity": 0.2
             }
            },
            "type": "barpolar"
           }
          ],
          "carpet": [
           {
            "aaxis": {
             "endlinecolor": "#2a3f5f",
             "gridcolor": "white",
             "linecolor": "white",
             "minorgridcolor": "white",
             "startlinecolor": "#2a3f5f"
            },
            "baxis": {
             "endlinecolor": "#2a3f5f",
             "gridcolor": "white",
             "linecolor": "white",
             "minorgridcolor": "white",
             "startlinecolor": "#2a3f5f"
            },
            "type": "carpet"
           }
          ],
          "choropleth": [
           {
            "colorbar": {
             "outlinewidth": 0,
             "ticks": ""
            },
            "type": "choropleth"
           }
          ],
          "contour": [
           {
            "colorbar": {
             "outlinewidth": 0,
             "ticks": ""
            },
            "colorscale": [
             [
              0,
              "#0d0887"
             ],
             [
              0.1111111111111111,
              "#46039f"
             ],
             [
              0.2222222222222222,
              "#7201a8"
             ],
             [
              0.3333333333333333,
              "#9c179e"
             ],
             [
              0.4444444444444444,
              "#bd3786"
             ],
             [
              0.5555555555555556,
              "#d8576b"
             ],
             [
              0.6666666666666666,
              "#ed7953"
             ],
             [
              0.7777777777777778,
              "#fb9f3a"
             ],
             [
              0.8888888888888888,
              "#fdca26"
             ],
             [
              1,
              "#f0f921"
             ]
            ],
            "type": "contour"
           }
          ],
          "contourcarpet": [
           {
            "colorbar": {
             "outlinewidth": 0,
             "ticks": ""
            },
            "type": "contourcarpet"
           }
          ],
          "heatmap": [
           {
            "colorbar": {
             "outlinewidth": 0,
             "ticks": ""
            },
            "colorscale": [
             [
              0,
              "#0d0887"
             ],
             [
              0.1111111111111111,
              "#46039f"
             ],
             [
              0.2222222222222222,
              "#7201a8"
             ],
             [
              0.3333333333333333,
              "#9c179e"
             ],
             [
              0.4444444444444444,
              "#bd3786"
             ],
             [
              0.5555555555555556,
              "#d8576b"
             ],
             [
              0.6666666666666666,
              "#ed7953"
             ],
             [
              0.7777777777777778,
              "#fb9f3a"
             ],
             [
              0.8888888888888888,
              "#fdca26"
             ],
             [
              1,
              "#f0f921"
             ]
            ],
            "type": "heatmap"
           }
          ],
          "heatmapgl": [
           {
            "colorbar": {
             "outlinewidth": 0,
             "ticks": ""
            },
            "colorscale": [
             [
              0,
              "#0d0887"
             ],
             [
              0.1111111111111111,
              "#46039f"
             ],
             [
              0.2222222222222222,
              "#7201a8"
             ],
             [
              0.3333333333333333,
              "#9c179e"
             ],
             [
              0.4444444444444444,
              "#bd3786"
             ],
             [
              0.5555555555555556,
              "#d8576b"
             ],
             [
              0.6666666666666666,
              "#ed7953"
             ],
             [
              0.7777777777777778,
              "#fb9f3a"
             ],
             [
              0.8888888888888888,
              "#fdca26"
             ],
             [
              1,
              "#f0f921"
             ]
            ],
            "type": "heatmapgl"
           }
          ],
          "histogram": [
           {
            "marker": {
             "pattern": {
              "fillmode": "overlay",
              "size": 10,
              "solidity": 0.2
             }
            },
            "type": "histogram"
           }
          ],
          "histogram2d": [
           {
            "colorbar": {
             "outlinewidth": 0,
             "ticks": ""
            },
            "colorscale": [
             [
              0,
              "#0d0887"
             ],
             [
              0.1111111111111111,
              "#46039f"
             ],
             [
              0.2222222222222222,
              "#7201a8"
             ],
             [
              0.3333333333333333,
              "#9c179e"
             ],
             [
              0.4444444444444444,
              "#bd3786"
             ],
             [
              0.5555555555555556,
              "#d8576b"
             ],
             [
              0.6666666666666666,
              "#ed7953"
             ],
             [
              0.7777777777777778,
              "#fb9f3a"
             ],
             [
              0.8888888888888888,
              "#fdca26"
             ],
             [
              1,
              "#f0f921"
             ]
            ],
            "type": "histogram2d"
           }
          ],
          "histogram2dcontour": [
           {
            "colorbar": {
             "outlinewidth": 0,
             "ticks": ""
            },
            "colorscale": [
             [
              0,
              "#0d0887"
             ],
             [
              0.1111111111111111,
              "#46039f"
             ],
             [
              0.2222222222222222,
              "#7201a8"
             ],
             [
              0.3333333333333333,
              "#9c179e"
             ],
             [
              0.4444444444444444,
              "#bd3786"
             ],
             [
              0.5555555555555556,
              "#d8576b"
             ],
             [
              0.6666666666666666,
              "#ed7953"
             ],
             [
              0.7777777777777778,
              "#fb9f3a"
             ],
             [
              0.8888888888888888,
              "#fdca26"
             ],
             [
              1,
              "#f0f921"
             ]
            ],
            "type": "histogram2dcontour"
           }
          ],
          "mesh3d": [
           {
            "colorbar": {
             "outlinewidth": 0,
             "ticks": ""
            },
            "type": "mesh3d"
           }
          ],
          "parcoords": [
           {
            "line": {
             "colorbar": {
              "outlinewidth": 0,
              "ticks": ""
             }
            },
            "type": "parcoords"
           }
          ],
          "pie": [
           {
            "automargin": true,
            "type": "pie"
           }
          ],
          "scatter": [
           {
            "fillpattern": {
             "fillmode": "overlay",
             "size": 10,
             "solidity": 0.2
            },
            "type": "scatter"
           }
          ],
          "scatter3d": [
           {
            "line": {
             "colorbar": {
              "outlinewidth": 0,
              "ticks": ""
             }
            },
            "marker": {
             "colorbar": {
              "outlinewidth": 0,
              "ticks": ""
             }
            },
            "type": "scatter3d"
           }
          ],
          "scattercarpet": [
           {
            "marker": {
             "colorbar": {
              "outlinewidth": 0,
              "ticks": ""
             }
            },
            "type": "scattercarpet"
           }
          ],
          "scattergeo": [
           {
            "marker": {
             "colorbar": {
              "outlinewidth": 0,
              "ticks": ""
             }
            },
            "type": "scattergeo"
           }
          ],
          "scattergl": [
           {
            "marker": {
             "colorbar": {
              "outlinewidth": 0,
              "ticks": ""
             }
            },
            "type": "scattergl"
           }
          ],
          "scattermapbox": [
           {
            "marker": {
             "colorbar": {
              "outlinewidth": 0,
              "ticks": ""
             }
            },
            "type": "scattermapbox"
           }
          ],
          "scatterpolar": [
           {
            "marker": {
             "colorbar": {
              "outlinewidth": 0,
              "ticks": ""
             }
            },
            "type": "scatterpolar"
           }
          ],
          "scatterpolargl": [
           {
            "marker": {
             "colorbar": {
              "outlinewidth": 0,
              "ticks": ""
             }
            },
            "type": "scatterpolargl"
           }
          ],
          "scatterternary": [
           {
            "marker": {
             "colorbar": {
              "outlinewidth": 0,
              "ticks": ""
             }
            },
            "type": "scatterternary"
           }
          ],
          "surface": [
           {
            "colorbar": {
             "outlinewidth": 0,
             "ticks": ""
            },
            "colorscale": [
             [
              0,
              "#0d0887"
             ],
             [
              0.1111111111111111,
              "#46039f"
             ],
             [
              0.2222222222222222,
              "#7201a8"
             ],
             [
              0.3333333333333333,
              "#9c179e"
             ],
             [
              0.4444444444444444,
              "#bd3786"
             ],
             [
              0.5555555555555556,
              "#d8576b"
             ],
             [
              0.6666666666666666,
              "#ed7953"
             ],
             [
              0.7777777777777778,
              "#fb9f3a"
             ],
             [
              0.8888888888888888,
              "#fdca26"
             ],
             [
              1,
              "#f0f921"
             ]
            ],
            "type": "surface"
           }
          ],
          "table": [
           {
            "cells": {
             "fill": {
              "color": "#EBF0F8"
             },
             "line": {
              "color": "white"
             }
            },
            "header": {
             "fill": {
              "color": "#C8D4E3"
             },
             "line": {
              "color": "white"
             }
            },
            "type": "table"
           }
          ]
         },
         "layout": {
          "annotationdefaults": {
           "arrowcolor": "#2a3f5f",
           "arrowhead": 0,
           "arrowwidth": 1
          },
          "autotypenumbers": "strict",
          "coloraxis": {
           "colorbar": {
            "outlinewidth": 0,
            "ticks": ""
           }
          },
          "colorscale": {
           "diverging": [
            [
             0,
             "#8e0152"
            ],
            [
             0.1,
             "#c51b7d"
            ],
            [
             0.2,
             "#de77ae"
            ],
            [
             0.3,
             "#f1b6da"
            ],
            [
             0.4,
             "#fde0ef"
            ],
            [
             0.5,
             "#f7f7f7"
            ],
            [
             0.6,
             "#e6f5d0"
            ],
            [
             0.7,
             "#b8e186"
            ],
            [
             0.8,
             "#7fbc41"
            ],
            [
             0.9,
             "#4d9221"
            ],
            [
             1,
             "#276419"
            ]
           ],
           "sequential": [
            [
             0,
             "#0d0887"
            ],
            [
             0.1111111111111111,
             "#46039f"
            ],
            [
             0.2222222222222222,
             "#7201a8"
            ],
            [
             0.3333333333333333,
             "#9c179e"
            ],
            [
             0.4444444444444444,
             "#bd3786"
            ],
            [
             0.5555555555555556,
             "#d8576b"
            ],
            [
             0.6666666666666666,
             "#ed7953"
            ],
            [
             0.7777777777777778,
             "#fb9f3a"
            ],
            [
             0.8888888888888888,
             "#fdca26"
            ],
            [
             1,
             "#f0f921"
            ]
           ],
           "sequentialminus": [
            [
             0,
             "#0d0887"
            ],
            [
             0.1111111111111111,
             "#46039f"
            ],
            [
             0.2222222222222222,
             "#7201a8"
            ],
            [
             0.3333333333333333,
             "#9c179e"
            ],
            [
             0.4444444444444444,
             "#bd3786"
            ],
            [
             0.5555555555555556,
             "#d8576b"
            ],
            [
             0.6666666666666666,
             "#ed7953"
            ],
            [
             0.7777777777777778,
             "#fb9f3a"
            ],
            [
             0.8888888888888888,
             "#fdca26"
            ],
            [
             1,
             "#f0f921"
            ]
           ]
          },
          "colorway": [
           "#636efa",
           "#EF553B",
           "#00cc96",
           "#ab63fa",
           "#FFA15A",
           "#19d3f3",
           "#FF6692",
           "#B6E880",
           "#FF97FF",
           "#FECB52"
          ],
          "font": {
           "color": "#2a3f5f"
          },
          "geo": {
           "bgcolor": "white",
           "lakecolor": "white",
           "landcolor": "#E5ECF6",
           "showlakes": true,
           "showland": true,
           "subunitcolor": "white"
          },
          "hoverlabel": {
           "align": "left"
          },
          "hovermode": "closest",
          "mapbox": {
           "style": "light"
          },
          "paper_bgcolor": "white",
          "plot_bgcolor": "#E5ECF6",
          "polar": {
           "angularaxis": {
            "gridcolor": "white",
            "linecolor": "white",
            "ticks": ""
           },
           "bgcolor": "#E5ECF6",
           "radialaxis": {
            "gridcolor": "white",
            "linecolor": "white",
            "ticks": ""
           }
          },
          "scene": {
           "xaxis": {
            "backgroundcolor": "#E5ECF6",
            "gridcolor": "white",
            "gridwidth": 2,
            "linecolor": "white",
            "showbackground": true,
            "ticks": "",
            "zerolinecolor": "white"
           },
           "yaxis": {
            "backgroundcolor": "#E5ECF6",
            "gridcolor": "white",
            "gridwidth": 2,
            "linecolor": "white",
            "showbackground": true,
            "ticks": "",
            "zerolinecolor": "white"
           },
           "zaxis": {
            "backgroundcolor": "#E5ECF6",
            "gridcolor": "white",
            "gridwidth": 2,
            "linecolor": "white",
            "showbackground": true,
            "ticks": "",
            "zerolinecolor": "white"
           }
          },
          "shapedefaults": {
           "line": {
            "color": "#2a3f5f"
           }
          },
          "ternary": {
           "aaxis": {
            "gridcolor": "white",
            "linecolor": "white",
            "ticks": ""
           },
           "baxis": {
            "gridcolor": "white",
            "linecolor": "white",
            "ticks": ""
           },
           "bgcolor": "#E5ECF6",
           "caxis": {
            "gridcolor": "white",
            "linecolor": "white",
            "ticks": ""
           }
          },
          "title": {
           "x": 0.05
          },
          "xaxis": {
           "automargin": true,
           "gridcolor": "white",
           "linecolor": "white",
           "ticks": "",
           "title": {
            "standoff": 15
           },
           "zerolinecolor": "white",
           "zerolinewidth": 2
          },
          "yaxis": {
           "automargin": true,
           "gridcolor": "white",
           "linecolor": "white",
           "ticks": "",
           "title": {
            "standoff": 15
           },
           "zerolinecolor": "white",
           "zerolinewidth": 2
          }
         }
        }
       }
      },
      "image/png": "[encoded data removed]",
      "text/html": [
       "<div>                            <div id=\"08cf0ee6-9f57-421f-b6de-b1004160e271\" class=\"plotly-graph-div\" style=\"height:525px; width:100%;\"></div>            <script type=\"text/javascript\">                require([\"plotly\"], function(Plotly) {                    window.PLOTLYENV=window.PLOTLYENV || {};                                    if (document.getElementById(\"08cf0ee6-9f57-421f-b6de-b1004160e271\")) {                    Plotly.newPlot(                        \"08cf0ee6-9f57-421f-b6de-b1004160e271\",                        [{\"branchvalues\":\"total\",\"customdata\":[[185.74,0.052,0.836,0.112,0.108],[67.57,0.022,0.863,0.115,0.156],[148.43,0.016,0.844,0.139,0.204],[153.305,0.043,0.756,0.2,0.232],[227.77,0.096,0.836,0.068,-0.065],[33.59,0.03,0.873,0.097,0.123],[367.02,0.054,0.84,0.106,0.07],[53.035,0.052,0.871,0.076,0.057],[144.58,0.074,0.812,0.114,0.049],[89.27,0.076,0.85,0.074,-0.009],[143.57,0.035,0.835,0.129,0.17],[47.41,0.029,0.876,0.095,0.115],[364.445,0.021,0.865,0.114,0.159],[161.78,0.037,0.827,0.136,0.136],[170.905,0.044,0.864,0.092,0.088],[60.22,0.033,0.79,0.176,0.209],[455.75,0.039,0.817,0.144,0.172],[370.51,0.046,0.799,0.156,0.22],[108.41,0.036,0.87,0.094,0.096],[382.338,0.039,0.84,0.121,0.164],[166.705,0.036,0.824,0.139,0.181],[28.975,0.057,0.823,0.12,0.097],[133.5,0.027,0.853,0.12,0.159],[48.21,0.062,0.791,0.148,0.16],[144.53,0.022,0.883,0.096,0.126],[232.95,0.066,0.853,0.081,0.03],[537.774,0.015,0.845,0.14,0.198],[161.039,0.064,0.802,0.134,0.109],[98.475,0.06,0.831,0.109,0.087]],\"domain\":{\"x\":[0.0,1.0],\"y\":[0.0,1.0]},\"hovertemplate\":\"labels=%{label}\\u003cbr\\u003eTotal Stock Value in Portfolio=%{value}\\u003cbr\\u003eparent=%{parent}\\u003cbr\\u003eid=%{id}\\u003cbr\\u003ePrice=%{customdata[0]}\\u003cbr\\u003eNegative=%{customdata[1]}\\u003cbr\\u003eNeutral=%{customdata[2]}\\u003cbr\\u003ePositive=%{customdata[3]}\\u003cbr\\u003eSentiment Score=%{color}\\u003cextra\\u003e\\u003c\\u002fextra\\u003e\",\"ids\":[\"Sectors\\u002fTechnology\\u002fConsumer Electronics\\u002fAAPL\",\"Sectors\\u002fFinancial Services\\u002fInsurance - Diversified\\u002fAIG\",\"Sectors\\u002fTechnology\\u002fSemiconductors\\u002fAMD\",\"Sectors\\u002fConsumer Cyclical\\u002fInternet Retail\\u002fAMZN\",\"Sectors\\u002fIndustrials\\u002fAerospace & Defense\\u002fBA\",\"Sectors\\u002fFinancial Services\\u002fBanks - Diversified\\u002fBAC\",\"Sectors\\u002fFinancial Services\\u002fInsurance - Diversified\\u002fBRK-B\",\"Sectors\\u002fFinancial Services\\u002fBanks - Diversified\\u002fC\",\"Sectors\\u002fEnergy\\u002fOil & Gas Integrated\\u002fCVX\",\"Sectors\\u002fCommunication Services\\u002fEntertainment\\u002fDIS\",\"Sectors\\u002fCommunication Services\\u002fInternet Content & Information\\u002fGOOG\",\"Sectors\\u002fTechnology\\u002fSemiconductors\\u002fINTC\",\"Sectors\\u002fHealthcare\\u002fMedical Instruments & Supplies\\u002fISRG\",\"Sectors\\u002fHealthcare\\u002fDrug Manufacturers - General\\u002fJNJ\",\"Sectors\\u002fFinancial Services\\u002fBanks - Diversified\\u002fJPM\",\"Sectors\\u002fConsumer Defensive\\u002fBeverages - Non-Alcoholic\\u002fKO\",\"Sectors\\u002fIndustrials\\u002fAerospace & Defense\\u002fLMT\",\"Sectors\\u002fCommunication Services\\u002fInternet Content & Information\\u002fMETA\",\"Sectors\\u002fIndustrials\\u002fConglomerates\\u002fMMM\",\"Sectors\\u002fTechnology\\u002fSoftware - Infrastructure\\u002fMSFT\",\"Sectors\\u002fConsumer Defensive\\u002fBeverages - Non-Alcoholic\\u002fPEP\",\"Sectors\\u002fHealthcare\\u002fDrug Manufacturers - General\\u002fPFE\",\"Sectors\\u002fReal Estate\\u002fREIT - Industrial\\u002fPLD\",\"Sectors\\u002fEnergy\\u002fOil & Gas Equipment & Services\\u002fSLB\",\"Sectors\\u002fReal Estate\\u002fREIT - Retail\\u002fSPG\",\"Sectors\\u002fConsumer Cyclical\\u002fAuto Manufacturers\\u002fTSLA\",\"Sectors\\u002fHealthcare\\u002fHealthcare Plans\\u002fUNH\",\"Sectors\\u002fConsumer Defensive\\u002fDiscount Stores\\u002fWMT\",\"Sectors\\u002fEnergy\\u002fOil & Gas Integrated\\u002fXOM\",\"Sectors\\u002fIndustrials\\u002fAerospace & Defense\",\"Sectors\\u002fConsumer Cyclical\\u002fAuto Manufacturers\",\"Sectors\\u002fFinancial Services\\u002fBanks - Diversified\",\"Sectors\\u002fConsumer Defensive\\u002fBeverages - Non-Alcoholic\",\"Sectors\\u002fIndustrials\\u002fConglomerates\",\"Sectors\\u002fTechnology\\u002fConsumer Electronics\",\"Sectors\\u002fConsumer Defensive\\u002fDiscount Stores\",\"Sectors\\u002fHealthcare\\u002fDrug Manufacturers - General\",\"Sectors\\u002fCommunication Services\\u002fEntertainment\",\"Sectors\\u002fHealthcare\\u002fHealthcare Plans\",\"Sectors\\u002fFinancial Services\\u002fInsurance - Diversified\",\"Sectors\\u002fCommunication Services\\u002fInternet Content & Information\",\"Sectors\\u002fConsumer Cyclical\\u002fInternet Retail\",\"Sectors\\u002fHealthcare\\u002fMedical Instruments & Supplies\",\"Sectors\\u002fEnergy\\u002fOil & Gas Equipment & Services\",\"Sectors\\u002fEnergy\\u002fOil & Gas Integrated\",\"Sectors\\u002fReal Estate\\u002fREIT - Industrial\",\"Sectors\\u002fReal Estate\\u002fREIT - Retail\",\"Sectors\\u002fTechnology\\u002fSemiconductors\",\"Sectors\\u002fTechnology\\u002fSoftware - Infrastructure\",\"Sectors\\u002fCommunication Services\",\"Sectors\\u002fConsumer Cyclical\",\"Sectors\\u002fConsumer Defensive\",\"Sectors\\u002fEnergy\",\"Sectors\\u002fFinancial Services\",\"Sectors\\u002fHealthcare\",\"Sectors\\u002fIndustrials\",\"Sectors\\u002fReal Estate\",\"Sectors\\u002fTechnology\",\"Sectors\"],\"labels\":[\"AAPL\",\"AIG\",\"AMD\",\"AMZN\",\"BA\",\"BAC\",\"BRK-B\",\"C\",\"CVX\",\"DIS\",\"GOOG\",\"INTC\",\"ISRG\",\"JNJ\",\"JPM\",\"KO\",\"LMT\",\"META\",\"MMM\",\"MSFT\",\"PEP\",\"PFE\",\"PLD\",\"SLB\",\"SPG\",\"TSLA\",\"UNH\",\"WMT\",\"XOM\",\"Aerospace & Defense\",\"Auto Manufacturers\",\"Banks - Diversified\",\"Beverages - Non-Alcoholic\",\"Conglomerates\",\"Consumer Electronics\",\"Discount Stores\",\"Drug Manufacturers - General\",\"Entertainment\",\"Healthcare Plans\",\"Insurance - Diversified\",\"Internet Content & Information\",\"Internet Retail\",\"Medical Instruments & Supplies\",\"Oil & Gas Equipment & Services\",\"Oil & Gas Integrated\",\"REIT - Industrial\",\"REIT - Retail\",\"Semiconductors\",\"Software - Infrastructure\",\"Communication Services\",\"Consumer Cyclical\",\"Consumer Defensive\",\"Energy\",\"Financial Services\",\"Healthcare\",\"Industrials\",\"Real Estate\",\"Technology\",\"Sectors\"],\"marker\":{\"coloraxis\":\"coloraxis\",\"colors\":[0.10841799999999999,0.15557,0.204235,0.23169199999999998,-0.064605,0.12337000000000001,0.06985999999999999,0.057144,0.04903099999999999,-0.009015999999999995,0.169856,0.11483499999999999,0.158836,0.13570400000000002,0.087552,0.20940799999999998,0.172232,0.219538,0.096176,0.16418299999999997,0.18085700000000002,0.096744,0.158537,0.159774,0.125776,0.029973,0.197764,0.109269,0.08739899999999999,0.04068284134416074,0.029973,0.08538693159519581,0.1928324216162566,0.096176,0.10841799999999999,0.109269,0.12113967843734277,-0.009015999999999995,0.197764,0.08589446617532241,0.20566302968409586,0.23169199999999998,0.158836,0.159774,0.06667508813188139,0.158537,0.125776,0.18259249820516932,0.16418299999999997,0.13771622245169302,0.1846768760099052,0.15921748512250386,0.10566022216128787,0.08572001609146114,0.15539340034591487,0.04828016073127404,0.1361262160400189,0.1531676398755998,0.12755393034457035]},\"name\":\"\",\"parents\":[\"Sectors\\u002fTechnology\\u002fConsumer Electronics\",\"Sectors\\u002fFinancial Services\\u002fInsurance - Diversified\",\"Sectors\\u002fTechnology\\u002fSemiconductors\",\"Sectors\\u002fConsumer Cyclical\\u002fInternet Retail\",\"Sectors\\u002fIndustrials\\u002fAerospace & Defense\",\"Sectors\\u002fFinancial Services\\u002fBanks - Diversified\",\"Sectors\\u002fFinancial Services\\u002fInsurance - Diversified\",\"Sectors\\u002fFinancial Services\\u002fBanks - Diversified\",\"Sectors\\u002fEnergy\\u002fOil & Gas Integrated\",\"Sectors\\u002fCommunication Services\\u002fEntertainment\",\"Sectors\\u002fCommunication Services\\u002fInternet Content & Information\",\"Sectors\\u002fTechnology\\u002fSemiconductors\",\"Sectors\\u002fHealthcare\\u002fMedical Instruments & Supplies\",\"Sectors\\u002fHealthcare\\u002fDrug Manufacturers - General\",\"Sectors\\u002fFinancial Services\\u002fBanks - Diversified\",\"Sectors\\u002fConsumer Defensive\\u002fBeverages - Non-Alcoholic\",\"Sectors\\u002fIndustrials\\u002fAerospace & Defense\",\"Sectors\\u002fCommunication Services\\u002fInternet Content & Information\",\"Sectors\\u002fIndustrials\\u002fConglomerates\",\"Sectors\\u002fTechnology\\u002fSoftware - Infrastructure\",\"Sectors\\u002fConsumer Defensive\\u002fBeverages - Non-Alcoholic\",\"Sectors\\u002fHealthcare\\u002fDrug Manufacturers - General\",\"Sectors\\u002fReal Estate\\u002fREIT - Industrial\",\"Sectors\\u002fEnergy\\u002fOil & Gas Equipment & Services\",\"Sectors\\u002fReal Estate\\u002fREIT - Retail\",\"Sectors\\u002fConsumer Cyclical\\u002fAuto Manufacturers\",\"Sectors\\u002fHealthcare\\u002fHealthcare Plans\",\"Sectors\\u002fConsumer Defensive\\u002fDiscount Stores\",\"Sectors\\u002fEnergy\\u002fOil & Gas Integrated\",\"Sectors\\u002fIndustrials\",\"Sectors\\u002fConsumer Cyclical\",\"Sectors\\u002fFinancial Services\",\"Sectors\\u002fConsumer Defensive\",\"Sectors\\u002fIndustrials\",\"Sectors\\u002fTechnology\",\"Sectors\\u002fConsumer Defensive\",\"Sectors\\u002fHealthcare\",\"Sectors\\u002fCommunication Services\",\"Sectors\\u002fHealthcare\",\"Sectors\\u002fFinancial Services\",\"Sectors\\u002fCommunication Services\",\"Sectors\\u002fConsumer Cyclical\",\"Sectors\\u002fHealthcare\",\"Sectors\\u002fEnergy\",\"Sectors\\u002fEnergy\",\"Sectors\\u002fReal Estate\",\"Sectors\\u002fReal Estate\",\"Sectors\\u002fTechnology\",\"Sectors\\u002fTechnology\",\"Sectors\",\"Sectors\",\"Sectors\",\"Sectors\",\"Sectors\",\"Sectors\",\"Sectors\",\"Sectors\",\"Sectors\",\"\"],\"values\":[1114.4406000000001,337.84999999999997,742.1500000000001,766.5250000000001,1138.8500000000001,167.95000000000002,1468.08,265.17499999999995,578.3204,714.16,430.71,237.05100000000002,1093.335,485.34000000000003,512.715,602.2,911.5,1111.53,325.23,1911.6909999999998,833.5250000000001,289.75,667.5,771.36,1445.303,232.95,537.7739,966.2316000000001,492.375,2050.3500000000004,232.95,945.84,1435.7250000000001,325.23,1114.4406000000001,966.2316000000001,775.09,714.16,537.7739,1805.9299999999998,1542.24,766.5250000000001,1093.335,771.36,1070.6954,667.5,1445.303,979.2010000000001,1911.6909999999998,2256.3999999999996,999.4750000000001,2401.9566000000004,1842.0554,2751.77,2406.1989000000003,2375.58,2112.803,4005.3325999999997,21151.571500000002],\"type\":\"treemap\",\"texttemplate\":\"%{label}\\u003cbr\\u003e%{customdata[4]}\",\"textposition\":\"middle center\"}],                        {\"template\":{\"data\":{\"histogram2dcontour\":[{\"type\":\"histogram2dcontour\",\"colorbar\":{\"outlinewidth\":0,\"ticks\":\"\"},\"colorscale\":[[0.0,\"#0d0887\"],[0.1111111111111111,\"#46039f\"],[0.2222222222222222,\"#7201a8\"],[0.3333333333333333,\"#9c179e\"],[0.4444444444444444,\"#bd3786\"],[0.5555555555555556,\"#d8576b\"],[0.6666666666666666,\"#ed7953\"],[0.7777777777777778,\"#fb9f3a\"],[0.8888888888888888,\"#fdca26\"],[1.0,\"#f0f921\"]]}],\"choropleth\":[{\"type\":\"choropleth\",\"colorbar\":{\"outlinewidth\":0,\"ticks\":\"\"}}],\"histogram2d\":[{\"type\":\"histogram2d\",\"colorbar\":{\"outlinewidth\":0,\"ticks\":\"\"},\"colorscale\":[[0.0,\"#0d0887\"],[0.1111111111111111,\"#46039f\"],[0.2222222222222222,\"#7201a8\"],[0.3333333333333333,\"#9c179e\"],[0.4444444444444444,\"#bd3786\"],[0.5555555555555556,\"#d8576b\"],[0.6666666666666666,\"#ed7953\"],[0.7777777777777778,\"#fb9f3a\"],[0.8888888888888888,\"#fdca26\"],[1.0,\"#f0f921\"]]}],\"heatmap\":[{\"type\":\"heatmap\",\"colorbar\":{\"outlinewidth\":0,\"ticks\":\"\"},\"colorscale\":[[0.0,\"#0d0887\"],[0.1111111111111111,\"#46039f\"],[0.2222222222222222,\"#7201a8\"],[0.3333333333333333,\"#9c179e\"],[0.4444444444444444,\"#bd3786\"],[0.5555555555555556,\"#d8576b\"],[0.6666666666666666,\"#ed7953\"],[0.7777777777777778,\"#fb9f3a\"],[0.8888888888888888,\"#fdca26\"],[1.0,\"#f0f921\"]]}],\"heatmapgl\":[{\"type\":\"heatmapgl\",\"colorbar\":{\"outlinewidth\":0,\"ticks\":\"\"},\"colorscale\":[[0.0,\"#0d0887\"],[0.1111111111111111,\"#46039f\"],[0.2222222222222222,\"#7201a8\"],[0.3333333333333333,\"#9c179e\"],[0.4444444444444444,\"#bd3786\"],[0.5555555555555556,\"#d8576b\"],[0.6666666666666666,\"#ed7953\"],[0.7777777777777778,\"#fb9f3a\"],[0.8888888888888888,\"#fdca26\"],[1.0,\"#f0f921\"]]}],\"contourcarpet\":[{\"type\":\"contourcarpet\",\"colorbar\":{\"outlinewidth\":0,\"ticks\":\"\"}}],\"contour\":[{\"type\":\"contour\",\"colorbar\":{\"outlinewidth\":0,\"ticks\":\"\"},\"colorscale\":[[0.0,\"#0d0887\"],[0.1111111111111111,\"#46039f\"],[0.2222222222222222,\"#7201a8\"],[0.3333333333333333,\"#9c179e\"],[0.4444444444444444,\"#bd3786\"],[0.5555555555555556,\"#d8576b\"],[0.6666666666666666,\"#ed7953\"],[0.7777777777777778,\"#fb9f3a\"],[0.8888888888888888,\"#fdca26\"],[1.0,\"#f0f921\"]]}],\"surface\":[{\"type\":\"surface\",\"colorbar\":{\"outlinewidth\":0,\"ticks\":\"\"},\"colorscale\":[[0.0,\"#0d0887\"],[0.1111111111111111,\"#46039f\"],[0.2222222222222222,\"#7201a8\"],[0.3333333333333333,\"#9c179e\"],[0.4444444444444444,\"#bd3786\"],[0.5555555555555556,\"#d8576b\"],[0.6666666666666666,\"#ed7953\"],[0.7777777777777778,\"#fb9f3a\"],[0.8888888888888888,\"#fdca26\"],[1.0,\"#f0f921\"]]}],\"mesh3d\":[{\"type\":\"mesh3d\",\"colorbar\":{\"outlinewidth\":0,\"ticks\":\"\"}}],\"scatter\":[{\"fillpattern\":{\"fillmode\":\"overlay\",\"size\":10,\"solidity\":0.2},\"type\":\"scatter\"}],\"parcoords\":[{\"type\":\"parcoords\",\"line\":{\"colorbar\":{\"outlinewidth\":0,\"ticks\":\"\"}}}],\"scatterpolargl\":[{\"type\":\"scatterpolargl\",\"marker\":{\"colorbar\":{\"outlinewidth\":0,\"ticks\":\"\"}}}],\"bar\":[{\"error_x\":{\"color\":\"#2a3f5f\"},\"error_y\":{\"color\":\"#2a3f5f\"},\"marker\":{\"line\":{\"color\":\"#E5ECF6\",\"width\":0.5},\"pattern\":{\"fillmode\":\"overlay\",\"size\":10,\"solidity\":0.2}},\"type\":\"bar\"}],\"scattergeo\":[{\"type\":\"scattergeo\",\"marker\":{\"colorbar\":{\"outlinewidth\":0,\"ticks\":\"\"}}}],\"scatterpolar\":[{\"type\":\"scatterpolar\",\"marker\":{\"colorbar\":{\"outlinewidth\":0,\"ticks\":\"\"}}}],\"histogram\":[{\"marker\":{\"pattern\":{\"fillmode\":\"overlay\",\"size\":10,\"solidity\":0.2}},\"type\":\"histogram\"}],\"scattergl\":[{\"type\":\"scattergl\",\"marker\":{\"colorbar\":{\"outlinewidth\":0,\"ticks\":\"\"}}}],\"scatter3d\":[{\"type\":\"scatter3d\",\"line\":{\"colorbar\":{\"outlinewidth\":0,\"ticks\":\"\"}},\"marker\":{\"colorbar\":{\"outlinewidth\":0,\"ticks\":\"\"}}}],\"scattermapbox\":[{\"type\":\"scattermapbox\",\"marker\":{\"colorbar\":{\"outlinewidth\":0,\"ticks\":\"\"}}}],\"scatterternary\":[{\"type\":\"scatterternary\",\"marker\":{\"colorbar\":{\"outlinewidth\":0,\"ticks\":\"\"}}}],\"scattercarpet\":[{\"type\":\"scattercarpet\",\"marker\":{\"colorbar\":{\"outlinewidth\":0,\"ticks\":\"\"}}}],\"carpet\":[{\"aaxis\":{\"endlinecolor\":\"#2a3f5f\",\"gridcolor\":\"white\",\"linecolor\":\"white\",\"minorgridcolor\":\"white\",\"startlinecolor\":\"#2a3f5f\"},\"baxis\":{\"endlinecolor\":\"#2a3f5f\",\"gridcolor\":\"white\",\"linecolor\":\"white\",\"minorgridcolor\":\"white\",\"startlinecolor\":\"#2a3f5f\"},\"type\":\"carpet\"}],\"table\":[{\"cells\":{\"fill\":{\"color\":\"#EBF0F8\"},\"line\":{\"color\":\"white\"}},\"header\":{\"fill\":{\"color\":\"#C8D4E3\"},\"line\":{\"color\":\"white\"}},\"type\":\"table\"}],\"barpolar\":[{\"marker\":{\"line\":{\"color\":\"#E5ECF6\",\"width\":0.5},\"pattern\":{\"fillmode\":\"overlay\",\"size\":10,\"solidity\":0.2}},\"type\":\"barpolar\"}],\"pie\":[{\"automargin\":true,\"type\":\"pie\"}]},\"layout\":{\"autotypenumbers\":\"strict\",\"colorway\":[\"#636efa\",\"#EF553B\",\"#00cc96\",\"#ab63fa\",\"#FFA15A\",\"#19d3f3\",\"#FF6692\",\"#B6E880\",\"#FF97FF\",\"#FECB52\"],\"font\":{\"color\":\"#2a3f5f\"},\"hovermode\":\"closest\",\"hoverlabel\":{\"align\":\"left\"},\"paper_bgcolor\":\"white\",\"plot_bgcolor\":\"#E5ECF6\",\"polar\":{\"bgcolor\":\"#E5ECF6\",\"angularaxis\":{\"gridcolor\":\"white\",\"linecolor\":\"white\",\"ticks\":\"\"},\"radialaxis\":{\"gridcolor\":\"white\",\"linecolor\":\"white\",\"ticks\":\"\"}},\"ternary\":{\"bgcolor\":\"#E5ECF6\",\"aaxis\":{\"gridcolor\":\"white\",\"linecolor\":\"white\",\"ticks\":\"\"},\"baxis\":{\"gridcolor\":\"white\",\"linecolor\":\"white\",\"ticks\":\"\"},\"caxis\":{\"gridcolor\":\"white\",\"linecolor\":\"white\",\"ticks\":\"\"}},\"coloraxis\":{\"colorbar\":{\"outlinewidth\":0,\"ticks\":\"\"}},\"colorscale\":{\"sequential\":[[0.0,\"#0d0887\"],[0.1111111111111111,\"#46039f\"],[0.2222222222222222,\"#7201a8\"],[0.3333333333333333,\"#9c179e\"],[0.4444444444444444,\"#bd3786\"],[0.5555555555555556,\"#d8576b\"],[0.6666666666666666,\"#ed7953\"],[0.7777777777777778,\"#fb9f3a\"],[0.8888888888888888,\"#fdca26\"],[1.0,\"#f0f921\"]],\"sequentialminus\":[[0.0,\"#0d0887\"],[0.1111111111111111,\"#46039f\"],[0.2222222222222222,\"#7201a8\"],[0.3333333333333333,\"#9c179e\"],[0.4444444444444444,\"#bd3786\"],[0.5555555555555556,\"#d8576b\"],[0.6666666666666666,\"#ed7953\"],[0.7777777777777778,\"#fb9f3a\"],[0.8888888888888888,\"#fdca26\"],[1.0,\"#f0f921\"]],\"diverging\":[[0,\"#8e0152\"],[0.1,\"#c51b7d\"],[0.2,\"#de77ae\"],[0.3,\"#f1b6da\"],[0.4,\"#fde0ef\"],[0.5,\"#f7f7f7\"],[0.6,\"#e6f5d0\"],[0.7,\"#b8e186\"],[0.8,\"#7fbc41\"],[0.9,\"#4d9221\"],[1,\"#276419\"]]},\"xaxis\":{\"gridcolor\":\"white\",\"linecolor\":\"white\",\"ticks\":\"\",\"title\":{\"standoff\":15},\"zerolinecolor\":\"white\",\"automargin\":true,\"zerolinewidth\":2},\"yaxis\":{\"gridcolor\":\"white\",\"linecolor\":\"white\",\"ticks\":\"\",\"title\":{\"standoff\":15},\"zerolinecolor\":\"white\",\"automargin\":true,\"zerolinewidth\":2},\"scene\":{\"xaxis\":{\"backgroundcolor\":\"#E5ECF6\",\"gridcolor\":\"white\",\"linecolor\":\"white\",\"showbackground\":true,\"ticks\":\"\",\"zerolinecolor\":\"white\",\"gridwidth\":2},\"yaxis\":{\"backgroundcolor\":\"#E5ECF6\",\"gridcolor\":\"white\",\"linecolor\":\"white\",\"showbackground\":true,\"ticks\":\"\",\"zerolinecolor\":\"white\",\"gridwidth\":2},\"zaxis\":{\"backgroundcolor\":\"#E5ECF6\",\"gridcolor\":\"white\",\"linecolor\":\"white\",\"showbackground\":true,\"ticks\":\"\",\"zerolinecolor\":\"white\",\"gridwidth\":2}},\"shapedefaults\":{\"line\":{\"color\":\"#2a3f5f\"}},\"annotationdefaults\":{\"arrowcolor\":\"#2a3f5f\",\"arrowhead\":0,\"arrowwidth\":1},\"geo\":{\"bgcolor\":\"white\",\"landcolor\":\"#E5ECF6\",\"subunitcolor\":\"white\",\"showland\":true,\"showlakes\":true,\"lakecolor\":\"white\"},\"title\":{\"x\":0.05},\"mapbox\":{\"style\":\"light\"}}},\"coloraxis\":{\"colorbar\":{\"title\":{\"text\":\"Sentiment Score\"}},\"colorscale\":[[0.0,\"#FF0000\"],[0.5,\"#000000\"],[1.0,\"#b2b2b2\"]],\"cmid\":0},\"legend\":{\"tracegroupgap\":0},\"margin\":{\"t\":30,\"l\":10,\"r\":10,\"b\":10},\"font\":{\"size\":20}},                        {\"responsive\": true}                    ).then(function(){\n",
       "                            \n",
       "var gd = document.getElementById('08cf0ee6-9f57-421f-b6de-b1004160e271');\n",
       "var x = new MutationObserver(function (mutations, observer) {{\n",
       "        var display = window.getComputedStyle(gd).display;\n",
       "        if (!display || display === 'none') {{\n",
       "            console.log([gd, 'removed!']);\n",
       "            Plotly.purge(gd);\n",
       "            observer.disconnect();\n",
       "        }}\n",
       "}});\n",
       "\n",
       "// Listen for the removal of the full notebook cells\n",
       "var notebookContainer = gd.closest('#notebook-container');\n",
       "if (notebookContainer) {{\n",
       "    x.observe(notebookContainer, {childList: true});\n",
       "}}\n",
       "\n",
       "// Listen for the clearing of the current output cell\n",
       "var outputEl = gd.closest('.output');\n",
       "if (outputEl) {{\n",
       "    x.observe(outputEl, {childList: true});\n",
       "}}\n",
       "\n",
       "                        })                };                });            </script>        </div>"
      ]
     },
     "metadata": {},
     "output_type": "display_data"
    }
   ],
   "source": [
    "print(df)\n",
    "\n",
    "fig = px.treemap(df, path=[px.Constant(\"Sectors\"), 'Sector', 'Industry', 'ticker'], values='Total Stock Value in Portfolio',\n",
    "                  color='Sentiment Score', hover_data=['Price', 'Negative', 'Neutral', 'Positive', 'Sentiment Score'],\n",
    "                  color_continuous_scale=['#FF0000', \"#000000\", '#b2b2b2'],\n",
    "                  color_continuous_midpoint=0)\n",
    "\n",
    "fig.data[0].customdata = df[['Price', 'Negative', 'Neutral', 'Positive', 'Sentiment Score']].round(3)\n",
    "fig.data[0].texttemplate = \"%{label}<br>%{customdata[4]}\"\n",
    "\n",
    "fig.update_traces(textposition=\"middle center\")\n",
    "fig.update_layout(margin = dict(t=30, l=10, r=10, b=10), font_size=20)\n",
    "\n",
    "plotly.offline.plot(fig, filename='stock_sentiment.html') \n",
    "fig.show()"
   ]
  },
  {
   "cell_type": "code",
   "execution_count": null,
   "metadata": {
    "ExecuteTime": {
     "end_time": "2024-01-09T20:24:58.185165Z",
     "start_time": "2024-01-09T20:24:57.912510Z"
    }
   },
   "outputs": [],
   "source": []
  },
  {
   "cell_type": "code",
   "execution_count": null,
   "metadata": {},
   "outputs": [],
   "source": []
  }
 ],
 "metadata": {
  "kernelspec": {
   "display_name": "Python 3 (ipykernel)",
   "language": "python",
   "name": "python3"
  },
  "language_info": {
   "codemirror_mode": {
    "name": "ipython",
    "version": 3
   },
   "file_extension": ".py",
   "mimetype": "text/x-python",
   "name": "python",
   "nbconvert_exporter": "python",
   "pygments_lexer": "ipython3",
   "version": "3.9.6"
  },
  "vscode": {
   "interpreter": {
    "hash": "74d4f517835f5391ecaa9b874603d33f8b07b3643e97ecae7701dd9640cfcedd"
   }
  }
 },
 "nbformat": 4,
 "nbformat_minor": 4
}
